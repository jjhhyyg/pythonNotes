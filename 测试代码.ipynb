{
 "cells": [
  {
   "cell_type": "markdown",
   "metadata": {
    "collapsed": true,
    "pycharm": {
     "name": "#%% md\n"
    }
   },
   "source": [
    "## unittest模块\n",
    "> 要为函数编写测试用例，先导入模块unittest和要测试的函数，再创建一个**继承unittest.TestCase的类**，并撰写一系列方法对函数行为的不同方面进行测试\n",
    "\n",
    "由于jupyter notebook的局限性，选择在文件夹\"测试代码\"中运行相关代码\n",
    "\n",
    "测试函数相关的文件:\n",
    "+ name_function.py\n",
    "+ test_name_function.py\n",
    "+ city_function.py\n",
    "+ test_cities.py\n",
    "\n",
    "测试类相关的文件：\n",
    "+ survey.py\n",
    "+ test_survey.py\n",
    "+ test_survey_improved.py\n",
    "+ employee.py\n",
    "+ test_employee.py"
   ]
  }
 ],
 "metadata": {
  "kernelspec": {
   "display_name": "Python 3",
   "language": "python",
   "name": "python3"
  },
  "language_info": {
   "codemirror_mode": {
    "name": "ipython",
    "version": 2
   },
   "file_extension": ".py",
   "mimetype": "text/x-python",
   "name": "python",
   "nbconvert_exporter": "python",
   "pygments_lexer": "ipython2",
   "version": "2.7.6"
  }
 },
 "nbformat": 4,
 "nbformat_minor": 0
}