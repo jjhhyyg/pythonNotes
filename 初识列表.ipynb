{
 "cells": [
  {
   "cell_type": "markdown",
   "id": "fd0aad99",
   "metadata": {},
   "source": [
    "### 访问链表元素"
   ]
  },
  {
   "cell_type": "code",
   "execution_count": 7,
   "id": "cd70f12d",
   "metadata": {},
   "outputs": [
    {
     "name": "stdout",
     "output_type": "stream",
     "text": [
      "5\n"
     ]
    }
   ],
   "source": [
    "# 访问列表最后一个元素\n",
    "l = [1, 2, 3, 4, 5]\n",
    "print(l[-1])"
   ]
  },
  {
   "cell_type": "markdown",
   "id": "b18b6de3",
   "metadata": {},
   "source": [
    "### 添加链表元素"
   ]
  },
  {
   "cell_type": "markdown",
   "id": "80e009b4",
   "metadata": {},
   "source": [
    "#### 在链表尾部添加元素"
   ]
  },
  {
   "cell_type": "code",
   "execution_count": 8,
   "id": "1acc7d45",
   "metadata": {},
   "outputs": [
    {
     "name": "stdout",
     "output_type": "stream",
     "text": [
      "['apple', 'orange', 'lemon']\n"
     ]
    }
   ],
   "source": [
    "l = []\n",
    "l.append(\"apple\")\n",
    "l.append(\"orange\")\n",
    "l.append(\"lemon\")\n",
    "print(l)"
   ]
  },
  {
   "cell_type": "markdown",
   "id": "1454d306",
   "metadata": {},
   "source": [
    "#### 在链表任意位置添加元素，l.insert(i, val)表示在下标为i的元素前添加新元素val，添加之后该新元素的下标即为i"
   ]
  },
  {
   "cell_type": "code",
   "execution_count": 9,
   "id": "7b2f3061",
   "metadata": {},
   "outputs": [
    {
     "name": "stdout",
     "output_type": "stream",
     "text": [
      "['banana', 'apple', 'orange', 'lemon']\n",
      "['banana', 'apple', 'orange', 'raspberry', 'lemon']\n"
     ]
    }
   ],
   "source": [
    "l = ['apple', 'orange', 'lemon']\n",
    "l.insert(0, 'banana')\n",
    "print(l)\n",
    "l.insert(3, 'raspberry')\n",
    "print(l)"
   ]
  },
  {
   "cell_type": "markdown",
   "id": "bfd564eb",
   "metadata": {},
   "source": [
    "### 删除链表元素"
   ]
  },
  {
   "cell_type": "markdown",
   "id": "ffcdf945",
   "metadata": {},
   "source": [
    "#### 使用del删除，需要知道被删除元素的对应下标"
   ]
  },
  {
   "cell_type": "code",
   "execution_count": 10,
   "id": "f7128e81",
   "metadata": {
    "scrolled": true
   },
   "outputs": [
    {
     "name": "stdout",
     "output_type": "stream",
     "text": [
      "['apple', 'orange', 'lemon']\n",
      "['orange', 'lemon']\n"
     ]
    }
   ],
   "source": [
    "l = ['apple', 'orange', 'lemon']\n",
    "print(l)\n",
    "del l[0]\n",
    "print(l)"
   ]
  },
  {
   "cell_type": "markdown",
   "id": "fbd3cab9",
   "metadata": {},
   "source": [
    "#### 使用pop()删除，并使用被删除元素的值\n",
    "> 特点：将列表看作<span class=\"mark\">栈</span>，pop出来的是<span class=\"mark\">尾部元素</span>"
   ]
  },
  {
   "cell_type": "code",
   "execution_count": 11,
   "id": "dbdd6e92",
   "metadata": {},
   "outputs": [
    {
     "name": "stdout",
     "output_type": "stream",
     "text": [
      "['apple', 'orange']\n",
      "lemon\n"
     ]
    }
   ],
   "source": [
    "l = ['apple', 'orange', 'lemon']\n",
    "poped_fruit = l.pop()\n",
    "print(l)\n",
    "print(poped_fruit)"
   ]
  },
  {
   "cell_type": "markdown",
   "id": "3751c472",
   "metadata": {},
   "source": [
    "#### 增强型pop，弹出任意位置的元素"
   ]
  },
  {
   "cell_type": "code",
   "execution_count": 13,
   "id": "c06c6d27",
   "metadata": {},
   "outputs": [
    {
     "name": "stdout",
     "output_type": "stream",
     "text": [
      "['apple', 'lemon']\n",
      "orange\n"
     ]
    }
   ],
   "source": [
    "l = ['apple', 'orange', 'lemon']\n",
    "poped_fruit = l.pop(1)\n",
    "print(l)\n",
    "print(poped_fruit)"
   ]
  },
  {
   "cell_type": "markdown",
   "id": "2ebc33bf",
   "metadata": {},
   "source": [
    "#### 根据值删除元素\n",
    "> 特点：只删除列表中出现的第一个指定值"
   ]
  },
  {
   "cell_type": "code",
   "execution_count": 17,
   "id": "026599e5",
   "metadata": {},
   "outputs": [
    {
     "name": "stdout",
     "output_type": "stream",
     "text": [
      "['apple', 'orange', 'lemon']\n",
      "['apple', 'lemon']\n"
     ]
    }
   ],
   "source": [
    "l = ['apple', 'orange', 'lemon']\n",
    "print(l)\n",
    "l.remove('orange')\n",
    "print(l)"
   ]
  },
  {
   "cell_type": "markdown",
   "id": "a5d0ed4b",
   "metadata": {},
   "source": [
    "### 列表排序"
   ]
  },
  {
   "cell_type": "markdown",
   "id": "76b4728e",
   "metadata": {},
   "source": [
    "#### 永久排序sort"
   ]
  },
  {
   "cell_type": "code",
   "execution_count": 20,
   "id": "c575cb66",
   "metadata": {},
   "outputs": [
    {
     "name": "stdout",
     "output_type": "stream",
     "text": [
      "['bmw', 'audi', 'toyata', 'subaru']\n",
      "['audi', 'bmw', 'subaru', 'toyata']\n"
     ]
    }
   ],
   "source": [
    "cars = ['bmw', 'audi', 'toyata', 'subaru']\n",
    "print(cars)\n",
    "cars.sort()\n",
    "print(cars)"
   ]
  },
  {
   "cell_type": "code",
   "execution_count": 22,
   "id": "643dfd90",
   "metadata": {},
   "outputs": [
    {
     "name": "stdout",
     "output_type": "stream",
     "text": [
      "['bmw', 'audi', 'toyata', 'subaru']\n",
      "['toyata', 'subaru', 'bmw', 'audi']\n"
     ]
    }
   ],
   "source": [
    "# 逆序\n",
    "cars = ['bmw', 'audi', 'toyata', 'subaru']\n",
    "print(cars)\n",
    "cars.sort(reverse=True)\n",
    "print(cars)"
   ]
  },
  {
   "cell_type": "markdown",
   "id": "6a4a7768",
   "metadata": {},
   "source": [
    "#### 临时排序sorted"
   ]
  },
  {
   "cell_type": "code",
   "execution_count": 19,
   "id": "cff322f3",
   "metadata": {},
   "outputs": [
    {
     "name": "stdout",
     "output_type": "stream",
     "text": [
      "['bmw', 'audi', 'toyata', 'subaru']\n",
      "['audi', 'bmw', 'subaru', 'toyata']\n"
     ]
    }
   ],
   "source": [
    "cars = ['bmw', 'audi', 'toyata', 'subaru']\n",
    "print(cars)\n",
    "print(sorted(cars))"
   ]
  },
  {
   "cell_type": "code",
   "execution_count": 24,
   "id": "82da013e",
   "metadata": {},
   "outputs": [
    {
     "name": "stdout",
     "output_type": "stream",
     "text": [
      "['bmw', 'audi', 'toyata', 'subaru']\n",
      "['toyata', 'subaru', 'bmw', 'audi']\n"
     ]
    }
   ],
   "source": [
    "# 逆序\n",
    "cars = ['bmw', 'audi', 'toyata', 'subaru']\n",
    "print(cars)\n",
    "print(sorted(cars, reverse=True))"
   ]
  },
  {
   "cell_type": "markdown",
   "id": "861918ac",
   "metadata": {},
   "source": [
    "#### 倒着打印列表"
   ]
  },
  {
   "cell_type": "code",
   "execution_count": 25,
   "id": "61293a1e",
   "metadata": {},
   "outputs": [
    {
     "name": "stdout",
     "output_type": "stream",
     "text": [
      "['subaru', 'toyata', 'audi', 'bmw']\n"
     ]
    }
   ],
   "source": [
    "cars = ['bmw', 'audi', 'toyata', 'subaru']\n",
    "# 永久性\n",
    "cars.reverse()\n",
    "print(cars)"
   ]
  },
  {
   "cell_type": "markdown",
   "id": "0db1dbad",
   "metadata": {},
   "source": [
    "#### 列表长度获取"
   ]
  },
  {
   "cell_type": "code",
   "execution_count": 28,
   "id": "e82d7869",
   "metadata": {},
   "outputs": [
    {
     "name": "stdout",
     "output_type": "stream",
     "text": [
      "4\n"
     ]
    }
   ],
   "source": [
    "cars = ['bmw', 'audi', 'toyata', 'subaru']\n",
    "print(len(cars))"
   ]
  },
  {
   "cell_type": "markdown",
   "id": "3bcba9a2",
   "metadata": {},
   "source": [
    "### range 的使用  \n",
    "- [x] 从第一个数开始，<span class=\"mark\">到第二个数的时候停止循环</span>"
   ]
  },
  {
   "cell_type": "code",
   "execution_count": 30,
   "id": "aedd6a99",
   "metadata": {
    "scrolled": true
   },
   "outputs": [
    {
     "name": "stdout",
     "output_type": "stream",
     "text": [
      "1\n",
      "2\n",
      "3\n",
      "4\n"
     ]
    }
   ],
   "source": [
    "for i in range(1, 5):\n",
    "    print(i)"
   ]
  },
  {
   "cell_type": "markdown",
   "id": "fc56ec35",
   "metadata": {},
   "source": [
    "#### 使用range创建整型数字列表"
   ]
  },
  {
   "cell_type": "code",
   "execution_count": 32,
   "id": "9face75d",
   "metadata": {},
   "outputs": [
    {
     "name": "stdout",
     "output_type": "stream",
     "text": [
      "[1, 2, 3, 4]\n"
     ]
    }
   ],
   "source": [
    "# 整型连续\n",
    "l1 = list(range(1, 5))\n",
    "print(l1)"
   ]
  },
  {
   "cell_type": "code",
   "execution_count": 35,
   "id": "82084eff",
   "metadata": {},
   "outputs": [
    {
     "name": "stdout",
     "output_type": "stream",
     "text": [
      "[1, 3, 5, 7, 9]\n"
     ]
    }
   ],
   "source": [
    "# 整型间断连续\n",
    "l2 = list(range(1, 11, 2))\n",
    "print(l2)"
   ]
  },
  {
   "cell_type": "markdown",
   "id": "79ac4e83",
   "metadata": {},
   "source": [
    "### 简单的统计"
   ]
  },
  {
   "cell_type": "code",
   "execution_count": 37,
   "id": "a1d63b77",
   "metadata": {},
   "outputs": [
    {
     "name": "stdout",
     "output_type": "stream",
     "text": [
      "228\n",
      "1\n",
      "123\n"
     ]
    }
   ],
   "source": [
    "l = [1, 5, 23, 1, 123, 42, 33]\n",
    "print(sum(l))\n",
    "print(min(l))\n",
    "print(max(l))"
   ]
  },
  {
   "cell_type": "markdown",
   "id": "f4a24c2d",
   "metadata": {},
   "source": [
    "### 列表解析法创建列表"
   ]
  },
  {
   "cell_type": "code",
   "execution_count": 39,
   "id": "e20b2fd3",
   "metadata": {
    "scrolled": true
   },
   "outputs": [
    {
     "name": "stdout",
     "output_type": "stream",
     "text": [
      "[1, 4, 9, 16, 25, 36, 49, 64, 81, 100]\n"
     ]
    }
   ],
   "source": [
    "squares = [value**2 for value in range(1, 11)]\n",
    "print(squares)"
   ]
  },
  {
   "cell_type": "markdown",
   "id": "3117cdc7",
   "metadata": {},
   "source": [
    "### 使用列表的一部分"
   ]
  },
  {
   "cell_type": "markdown",
   "id": "ae1cf78b",
   "metadata": {},
   "source": [
    "#### 列表切片"
   ]
  },
  {
   "cell_type": "code",
   "execution_count": 44,
   "id": "ac0de455",
   "metadata": {},
   "outputs": [
    {
     "name": "stdout",
     "output_type": "stream",
     "text": [
      "These are equal:\n",
      "['apple', 'orange', 'banana']\n",
      "['apple', 'orange', 'banana']\n",
      "\n",
      "These are equal:\n",
      "['banana', 'strawberry']\n",
      "['banana', 'strawberry']\n"
     ]
    }
   ],
   "source": [
    "l = ['apple', 'orange', 'banana', 'strawberry']\n",
    "\n",
    "print(\"These are equal:\")\n",
    "print(l[0:3])\n",
    "print(l[:3], end='\\n\\n')\n",
    "\n",
    "print(\"These are equal:\")\n",
    "print(l[2:len(l)])\n",
    "print(l[2:])"
   ]
  },
  {
   "cell_type": "code",
   "execution_count": 45,
   "id": "144f398e",
   "metadata": {},
   "outputs": [
    {
     "name": "stdout",
     "output_type": "stream",
     "text": [
      "打印最后三个元素: ['raspberry', 'pear', 'pineapple']\n"
     ]
    }
   ],
   "source": [
    "# 打印最后几个数，不管列表长度是否发生变化\n",
    "l = [\n",
    "    'apple', 'orange', 'banana', 'strawberry', 'raspberry', 'pear', 'pineapple'\n",
    "]\n",
    "\n",
    "print(\"打印最后三个元素:\", end=\" \")\n",
    "print(l[-3:])"
   ]
  },
  {
   "cell_type": "markdown",
   "id": "28c0db23",
   "metadata": {},
   "source": [
    "<font color=\"red\"><span class=\"mark\">可在切片的方括号里指定第三个值，告诉python在指定范围内每隔多少元素提取一个</span></font>"
   ]
  },
  {
   "cell_type": "markdown",
   "id": "cb2a3a14",
   "metadata": {},
   "source": [
    "### 列表复制"
   ]
  },
  {
   "cell_type": "code",
   "execution_count": 47,
   "id": "085f407a",
   "metadata": {},
   "outputs": [
    {
     "name": "stdout",
     "output_type": "stream",
     "text": [
      "['a', 'b', 'c']\n",
      "['a', 'b', 'c', 'd']\n"
     ]
    }
   ],
   "source": [
    "# 全复制(完整的切片)\n",
    "\n",
    "my_l = ['a', 'b', 'c']\n",
    "your_l = my_l[:]\n",
    "your_l.append('d')\n",
    "\n",
    "print(my_l)\n",
    "print(your_l)"
   ]
  },
  {
   "cell_type": "code",
   "execution_count": 48,
   "id": "a520c9d8",
   "metadata": {},
   "outputs": [
    {
     "name": "stdout",
     "output_type": "stream",
     "text": [
      "['a', 'b', 'c', 'd']\n",
      "['a', 'b', 'c', 'd']\n"
     ]
    }
   ],
   "source": [
    "# 这样做会让两个标识符指向同一个链表\n",
    "my_l = ['a', 'b', 'c']\n",
    "your_l = my_l\n",
    "your_l.append('d')\n",
    "\n",
    "print(my_l)\n",
    "print(your_l)"
   ]
  },
  {
   "cell_type": "markdown",
   "id": "81ee88f0",
   "metadata": {},
   "source": [
    "## 元组\n",
    "\n",
    "特点：\n",
    "+ 不能改变大小和其中的值\n",
    "+ 但可以通过给指向元组的变量赋值实现一些目的\n",
    "+ <span class=\"mark\">严格地说，元组是由**逗号**标识的，比如定义一个只含一个元素的元组时，要这样定义`my_t = (3,)`</span>"
   ]
  },
  {
   "cell_type": "code",
   "execution_count": null,
   "id": "588ab48b",
   "metadata": {},
   "outputs": [],
   "source": []
  }
 ],
 "metadata": {
  "kernelspec": {
   "display_name": "Python 3 (ipykernel)",
   "language": "python",
   "name": "python3"
  },
  "language_info": {
   "codemirror_mode": {
    "name": "ipython",
    "version": 3
   },
   "file_extension": ".py",
   "mimetype": "text/x-python",
   "name": "python",
   "nbconvert_exporter": "python",
   "pygments_lexer": "ipython3",
   "version": "3.7.11"
  }
 },
 "nbformat": 4,
 "nbformat_minor": 5
}
