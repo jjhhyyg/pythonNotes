{
 "cells": [
  {
   "cell_type": "code",
   "execution_count": 2,
   "id": "c040603c",
   "metadata": {},
   "outputs": [
    {
     "name": "stdout",
     "output_type": "stream",
     "text": [
      "please tell us your favorite car type:Audi\n",
      "Audi is your favorite car type.\n"
     ]
    }
   ],
   "source": [
    "# 7-1 汽车租赁\n",
    "carType = input(\"please tell us your favorite car type:\")\n",
    "print(f\"{carType} is your favorite car type.\")"
   ]
  },
  {
   "cell_type": "code",
   "execution_count": 3,
   "id": "9c71f308",
   "metadata": {},
   "outputs": [
    {
     "name": "stdout",
     "output_type": "stream",
     "text": [
      "how many people are there getting meal?\n",
      "10\n",
      "out of desk\n"
     ]
    }
   ],
   "source": [
    "# 7-2 餐馆订位\n",
    "deskNumber = int(input(\"how many people are there getting meal?\\n\"))\n",
    "if deskNumber > 8:\n",
    "    print(\"out of desk\")\n",
    "else:\n",
    "    print(\"desks left empty\")"
   ]
  },
  {
   "cell_type": "code",
   "execution_count": 5,
   "id": "8b2130a9",
   "metadata": {},
   "outputs": [
    {
     "name": "stdout",
     "output_type": "stream",
     "text": [
      "input a number:30\n",
      "30是10的整数倍\n"
     ]
    }
   ],
   "source": [
    "# 7-3 10的整数倍\n",
    "number = int(input(\"input a number:\"))\n",
    "if number % 10 == 0:\n",
    "    print(f\"{number}是10的整数倍\")\n",
    "else:\n",
    "    print(f\"{number}不是10的整数倍\")"
   ]
  },
  {
   "cell_type": "code",
   "execution_count": 2,
   "id": "322d9133",
   "metadata": {},
   "outputs": [
    {
     "name": "stdout",
     "output_type": "stream",
     "text": [
      "enter ingredient:tamato\n",
      "We'll add tamato in the pizza.\n",
      "continuely enter ingredient or enter 'quit' to quit:beef\n",
      "We'll add beef in the pizza.\n",
      "continuely enter ingredient or enter 'quit' to quit:cheese\n",
      "We'll add cheese in the pizza.\n",
      "continuely enter ingredient or enter 'quit' to quit:quit\n",
      "The tamato is added into the pizza.\n",
      "The beef is added into the pizza.\n",
      "The cheese is added into the pizza.\n"
     ]
    }
   ],
   "source": [
    "# 7-4 比萨配料\n",
    "ingredient = input(\"enter ingredient:\")\n",
    "ingredients = []\n",
    "\n",
    "while ingredient != 'quit':\n",
    "    ingredients.append(ingredient)\n",
    "    print(f\"We'll add {ingredient} in the pizza.\")\n",
    "    ingredient = input(\"continuely enter ingredient or enter 'quit' to quit:\")\n",
    "\n",
    "for i in ingredients:\n",
    "    print(f\"The {i} is added into the pizza.\")"
   ]
  },
  {
   "cell_type": "code",
   "execution_count": 1,
   "id": "14d7101c",
   "metadata": {},
   "outputs": [
    {
     "name": "stdout",
     "output_type": "stream",
     "text": [
      "what's your age?\n",
      "13\n",
      "the charge is $15\n",
      "what's your age?\n",
      "12\n",
      "the charge is $10\n",
      "what's your age?\n",
      "7\n",
      "the charge is $10\n",
      "what's your age?\n",
      "2\n",
      "you're free!\n",
      "what's your age?\n",
      "0\n"
     ]
    }
   ],
   "source": [
    "# 7-5 电影票\n",
    "age = int(input(\"what's your age?\\n\"))\n",
    "while age != 0:\n",
    "    if age < 3:\n",
    "        print(\"you're free!\")\n",
    "    elif age > 12:\n",
    "        print(\"the charge is $15\")\n",
    "    else:\n",
    "        print(\"the charge is $10\")\n",
    "    age = int(input(\"what's your age?\\n\"))"
   ]
  },
  {
   "cell_type": "code",
   "execution_count": 3,
   "id": "af004c04",
   "metadata": {},
   "outputs": [],
   "source": [
    "# 7-6 三种出路 7-7 无限循环\n",
    "# 不做了"
   ]
  },
  {
   "cell_type": "code",
   "execution_count": 6,
   "id": "f6d785cf",
   "metadata": {},
   "outputs": [
    {
     "name": "stdout",
     "output_type": "stream",
     "text": [
      "I made your beef sandwich\n",
      "I made your vegetable sandwich\n",
      "I made your tuna sandwich\n",
      "We've prepared beef sandwich,vegetable sandwich,tuna sandwich for you!\n"
     ]
    }
   ],
   "source": [
    "# 7-8 熟食店\n",
    "sandwich_orders = ['tuna', 'vegetable', 'beef']\n",
    "finished_sandwiches = []\n",
    "\n",
    "while sandwich_orders != []:\n",
    "    sandwich = sandwich_orders.pop()\n",
    "    finished_sandwiches.append(sandwich)\n",
    "    print(f\"I made your {sandwich} sandwich\")\n",
    "    \n",
    "print(f\"We've prepared {','.join(str(x)+' sandwich' for x in finished_sandwiches)} for you!\")"
   ]
  },
  {
   "cell_type": "code",
   "execution_count": 7,
   "id": "ea85f4cd",
   "metadata": {},
   "outputs": [
    {
     "name": "stdout",
     "output_type": "stream",
     "text": [
      "['tuna', 'vegetable', 'beef']\n"
     ]
    }
   ],
   "source": [
    "# 7-9 五香烟熏牛肉卖完了\n",
    "sandwich_orders = ['tuna', 'pastrami', 'vegetable', 'pastrami', 'beef', 'pastrami']\n",
    "while 'pastrami' in sandwich_orders:\n",
    "    sandwich_orders.remove('pastrami')\n",
    "    \n",
    "print(sandwich_orders)"
   ]
  },
  {
   "cell_type": "code",
   "execution_count": null,
   "id": "b257fde5",
   "metadata": {},
   "outputs": [],
   "source": [
    "# 7-10 梦想的度假胜地\n",
    "# 略"
   ]
  }
 ],
 "metadata": {
  "kernelspec": {
   "display_name": "Python 3 (ipykernel)",
   "language": "python",
   "name": "python3"
  },
  "language_info": {
   "codemirror_mode": {
    "name": "ipython",
    "version": 3
   },
   "file_extension": ".py",
   "mimetype": "text/x-python",
   "name": "python",
   "nbconvert_exporter": "python",
   "pygments_lexer": "ipython3",
   "version": "3.7.11"
  }
 },
 "nbformat": 4,
 "nbformat_minor": 5
}
