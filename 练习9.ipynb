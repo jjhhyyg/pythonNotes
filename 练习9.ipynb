{
 "cells": [
  {
   "cell_type": "code",
   "execution_count": 1,
   "metadata": {
    "collapsed": true
   },
   "outputs": [
    {
     "name": "stdout",
     "output_type": "stream",
     "text": [
      "芜湖食堂\n",
      "徽菜\n",
      "The restaurant name is 芜湖食堂 and it's cuisine type is 徽菜\n",
      "restaurant 芜湖食堂 is now open!\n"
     ]
    }
   ],
   "source": [
    "# 9-1 餐馆\n",
    "class Restaurant:\n",
    "    def __init__(self, name, cuisine_type):\n",
    "        self.restaurant_name = name\n",
    "        self.cuisine_type = cuisine_type\n",
    "\n",
    "    def describe_restaurant(self):\n",
    "        print(f\"The restaurant name is {self.restaurant_name} and \"\n",
    "              f\"it's cuisine type is {self.cuisine_type}\")\n",
    "\n",
    "    def open_restaurant(self):\n",
    "        print(f\"restaurant {self.restaurant_name} is now open!\")\n",
    "\n",
    "\n",
    "r = Restaurant('芜湖食堂', '徽菜')\n",
    "print(r.restaurant_name)\n",
    "print(r.cuisine_type)\n",
    "r.describe_restaurant()\n",
    "r.open_restaurant()"
   ]
  },
  {
   "cell_type": "code",
   "execution_count": 3,
   "outputs": [
    {
     "name": "stdout",
     "output_type": "stream",
     "text": [
      "restaurant 芜湖食堂 is now open!\n",
      "restaurant 小渝府 is now open!\n",
      "restaurant 桥香园 is now open!\n"
     ]
    }
   ],
   "source": [
    "# 9-2 三家餐馆\n",
    "class Restaurant:\n",
    "    def __init__(self, name, cuisine_type):\n",
    "        self.restaurant_name = name\n",
    "        self.cuisine_type = cuisine_type\n",
    "\n",
    "    def describe_restaurant(self):\n",
    "        print(f\"The restaurant name is {self.restaurant_name} and \"\n",
    "              f\"it's cuisine type is {self.cuisine_type}\")\n",
    "\n",
    "    def open_restaurant(self):\n",
    "        print(f\"restaurant {self.restaurant_name} is now open!\")\n",
    "\n",
    "\n",
    "r1 = Restaurant('芜湖食堂', '徽菜')\n",
    "r2 = Restaurant('小渝府', '川菜')\n",
    "r3 = Restaurant(cuisine_type='云南菜', name='桥香园')\n",
    "r1.open_restaurant()\n",
    "r2.open_restaurant()\n",
    "r3.open_restaurant()"
   ],
   "metadata": {
    "collapsed": false,
    "pycharm": {
     "name": "#%%\n"
    }
   }
  },
  {
   "cell_type": "code",
   "execution_count": 1,
   "outputs": [
    {
     "name": "stdout",
     "output_type": "stream",
     "text": [
      "user Erikson Hou's attributes are {'favorite_food': 'hamburger', 'favorite_band': 'Linkin Park'}\n",
      "Hello Erikson Hou\n"
     ]
    }
   ],
   "source": [
    "# 9-3 用户\n",
    "class User:\n",
    "    def __init__(self, first, last, **attributes):\n",
    "        self.first_name = first\n",
    "        self.last_name = last\n",
    "        # 用一个字典来存储其他信息\n",
    "        self.other_attributes = attributes\n",
    "\n",
    "    def conjunction_of_name(self):\n",
    "        return (self.first_name + ' ' + self.last_name).title()\n",
    "\n",
    "    def describe_user(self):\n",
    "        print(f\"user {self.conjunction_of_name()}'s attributes are {self.other_attributes}\")\n",
    "\n",
    "    def greet_user(self):\n",
    "        print(f\"Hello {self.conjunction_of_name()}\")\n",
    "\n",
    "\n",
    "user = User('Erikson', 'Hou', favorite_food='hamburger', favorite_band='Linkin Park')\n",
    "user.describe_user()\n",
    "user.greet_user()"
   ],
   "metadata": {
    "collapsed": false,
    "pycharm": {
     "name": "#%%\n"
    }
   }
  },
  {
   "cell_type": "code",
   "execution_count": 3,
   "outputs": [
    {
     "name": "stdout",
     "output_type": "stream",
     "text": [
      "0 persons have had meals in 芜湖食堂\n",
      "20 persons have had meals in 芜湖食堂\n",
      "50 persons have had meals in 芜湖食堂\n"
     ]
    }
   ],
   "source": [
    "# 9-4 就餐人数\n",
    "class Restaurant:\n",
    "    def __init__(self, name, cuisine_type):\n",
    "        self.restaurant_name = name\n",
    "        self.cuisine_type = cuisine_type\n",
    "        self.number_served = 0\n",
    "\n",
    "    def describe_restaurant(self):\n",
    "        print(f\"The restaurant name is {self.restaurant_name} and \"\n",
    "              f\"it's cuisine type is {self.cuisine_type}\")\n",
    "\n",
    "    def open_restaurant(self):\n",
    "        print(f\"restaurant {self.restaurant_name} is now open!\")\n",
    "\n",
    "    def set_number_served(self, number):\n",
    "        self.number_served = number\n",
    "\n",
    "    def increment_number_served(self, number):\n",
    "        self.number_served += number\n",
    "\n",
    "\n",
    "r = Restaurant('芜湖食堂', '徽菜')\n",
    "print(f\"{r.number_served} persons have had meals in {r.restaurant_name}\")\n",
    "r.set_number_served(20)\n",
    "print(f\"{r.number_served} persons have had meals in {r.restaurant_name}\")\n",
    "r.increment_number_served(30)\n",
    "print(f\"{r.number_served} persons have had meals in {r.restaurant_name}\")"
   ],
   "metadata": {
    "collapsed": false,
    "pycharm": {
     "name": "#%%\n"
    }
   }
  },
  {
   "cell_type": "code",
   "execution_count": 6,
   "outputs": [
    {
     "name": "stdout",
     "output_type": "stream",
     "text": [
      "login failed for 1 times.\n",
      "login failed for 2 times.\n",
      "login failed for 3 times.\n",
      "login failed for 0 times.\n"
     ]
    }
   ],
   "source": [
    "# 9-5 尝试登陆次数\n",
    "class User:\n",
    "    def __init__(self, first, last, **attributes):\n",
    "        self.first_name = first\n",
    "        self.last_name = last\n",
    "        # 用一个字典来存储其他信息\n",
    "        self.other_attributes = attributes\n",
    "        self.login_attempts = 0\n",
    "\n",
    "    def increment_login_attempts(self):\n",
    "        self.login_attempts += 1\n",
    "\n",
    "    def reset_login_attempts(self):\n",
    "        self.login_attempts = 0\n",
    "\n",
    "    def conjunction_of_name(self):\n",
    "        return (self.first_name + ' ' + self.last_name).title()\n",
    "\n",
    "    def describe_user(self):\n",
    "        print(f\"user {self.conjunction_of_name()}'s attributes are {self.other_attributes}\")\n",
    "\n",
    "    def greet_user(self):\n",
    "        print(f\"Hello {self.conjunction_of_name()}\")\n",
    "\n",
    "\n",
    "user = User('Erikson', 'Hou', favorite_food='hamburger', favorite_band='Linkin Park')\n",
    "user.increment_login_attempts()\n",
    "print(f\"login failed for {user.login_attempts} times.\")\n",
    "user.increment_login_attempts()\n",
    "print(f\"login failed for {user.login_attempts} times.\")\n",
    "user.increment_login_attempts()\n",
    "print(f\"login failed for {user.login_attempts} times.\")\n",
    "user.reset_login_attempts()\n",
    "print(f\"login failed for {user.login_attempts} times.\")"
   ],
   "metadata": {
    "collapsed": false,
    "pycharm": {
     "name": "#%%\n"
    }
   }
  },
  {
   "cell_type": "code",
   "execution_count": 8,
   "outputs": [
    {
     "name": "stdout",
     "output_type": "stream",
     "text": [
      "Restaurant poppy has 3 flavors:\n",
      "- chocolate\n",
      "- strawberry\n",
      "- lemon\n"
     ]
    }
   ],
   "source": [
    "# 9-6 print 冰激凌小店\n",
    "class Restaurant:\n",
    "    def __init__(self, name, cuisine_type):\n",
    "        self.restaurant_name = name\n",
    "        self.cuisine_type = cuisine_type\n",
    "        self.number_served = 0\n",
    "\n",
    "    def describe_restaurant(self):\n",
    "        print(f\"The restaurant name is {self.restaurant_name} and \"\n",
    "              f\"it's cuisine type is {self.cuisine_type}\")\n",
    "\n",
    "    def open_restaurant(self):\n",
    "        print(f\"restaurant {self.restaurant_name} is now open!\")\n",
    "\n",
    "    def set_number_served(self, number):\n",
    "        self.number_served = number\n",
    "\n",
    "    def increment_number_served(self, number):\n",
    "        self.number_served += number\n",
    "\n",
    "\n",
    "class IceCreamStand(Restaurant):\n",
    "    def __init__(self, name, cuisine_type, flavors):\n",
    "        super().__init__(name, cuisine_type)\n",
    "        self.flavors = flavors\n",
    "\n",
    "    def describe_flavors(self):\n",
    "        print(f\"Restaurant {self.restaurant_name} has {len(self.flavors)} flavors:\")\n",
    "        for flavor in self.flavors:\n",
    "            print(f\"- {flavor}\")\n",
    "\n",
    "\n",
    "stand = IceCreamStand('poppy','icecream', ['chocolate', 'strawberry', 'lemon'])\n",
    "stand.describe_flavors()"
   ],
   "metadata": {
    "collapsed": false,
    "pycharm": {
     "name": "#%%\n"
    }
   }
  },
  {
   "cell_type": "code",
   "execution_count": 12,
   "outputs": [
    {
     "ename": "TypeError",
     "evalue": "__init__() takes 3 positional arguments but 4 were given",
     "output_type": "error",
     "traceback": [
      "\u001B[1;31m---------------------------------------------------------------------------\u001B[0m",
      "\u001B[1;31mTypeError\u001B[0m                                 Traceback (most recent call last)",
      "\u001B[1;32m~\\AppData\\Local\\Temp/ipykernel_6440/3350236971.py\u001B[0m in \u001B[0;36m<module>\u001B[1;34m\u001B[0m\n\u001B[0;32m     34\u001B[0m \u001B[1;33m\u001B[0m\u001B[0m\n\u001B[0;32m     35\u001B[0m \u001B[1;33m\u001B[0m\u001B[0m\n\u001B[1;32m---> 36\u001B[1;33m \u001B[0madmin\u001B[0m \u001B[1;33m=\u001B[0m \u001B[0mAdmin\u001B[0m\u001B[1;33m(\u001B[0m\u001B[1;34m'Erikson'\u001B[0m\u001B[1;33m,\u001B[0m \u001B[1;34m'Hou'\u001B[0m\u001B[1;33m,\u001B[0m \u001B[0mtype\u001B[0m\u001B[1;33m=\u001B[0m\u001B[1;34m'admin'\u001B[0m\u001B[1;33m)\u001B[0m\u001B[1;33m\u001B[0m\u001B[1;33m\u001B[0m\u001B[0m\n\u001B[0m\u001B[0;32m     37\u001B[0m \u001B[0madmin\u001B[0m\u001B[1;33m.\u001B[0m\u001B[0mshow_privileges\u001B[0m\u001B[1;33m(\u001B[0m\u001B[1;33m)\u001B[0m\u001B[1;33m\u001B[0m\u001B[1;33m\u001B[0m\u001B[0m\n",
      "\u001B[1;32m~\\AppData\\Local\\Temp/ipykernel_6440/3350236971.py\u001B[0m in \u001B[0;36m__init__\u001B[1;34m(self, first, last, **attributes)\u001B[0m\n\u001B[0;32m     26\u001B[0m \u001B[1;32mclass\u001B[0m \u001B[0mAdmin\u001B[0m\u001B[1;33m(\u001B[0m\u001B[0mUser\u001B[0m\u001B[1;33m)\u001B[0m\u001B[1;33m:\u001B[0m\u001B[1;33m\u001B[0m\u001B[1;33m\u001B[0m\u001B[0m\n\u001B[0;32m     27\u001B[0m     \u001B[1;32mdef\u001B[0m \u001B[0m__init__\u001B[0m\u001B[1;33m(\u001B[0m\u001B[0mself\u001B[0m\u001B[1;33m,\u001B[0m \u001B[0mfirst\u001B[0m\u001B[1;33m,\u001B[0m \u001B[0mlast\u001B[0m\u001B[1;33m,\u001B[0m \u001B[1;33m**\u001B[0m\u001B[0mattributes\u001B[0m\u001B[1;33m)\u001B[0m\u001B[1;33m:\u001B[0m\u001B[1;33m\u001B[0m\u001B[1;33m\u001B[0m\u001B[0m\n\u001B[1;32m---> 28\u001B[1;33m         \u001B[0msuper\u001B[0m\u001B[1;33m(\u001B[0m\u001B[1;33m)\u001B[0m\u001B[1;33m.\u001B[0m\u001B[0m__init__\u001B[0m\u001B[1;33m(\u001B[0m\u001B[0mfirst\u001B[0m\u001B[1;33m,\u001B[0m \u001B[0mlast\u001B[0m\u001B[1;33m,\u001B[0m \u001B[0mattributes\u001B[0m\u001B[1;33m)\u001B[0m\u001B[1;33m\u001B[0m\u001B[1;33m\u001B[0m\u001B[0m\n\u001B[0m\u001B[0;32m     29\u001B[0m         \u001B[0mself\u001B[0m\u001B[1;33m.\u001B[0m\u001B[0mprivileges\u001B[0m \u001B[1;33m=\u001B[0m \u001B[1;34m\"can add post\"\u001B[0m\u001B[1;33m\u001B[0m\u001B[1;33m\u001B[0m\u001B[0m\n\u001B[0;32m     30\u001B[0m \u001B[1;33m\u001B[0m\u001B[0m\n",
      "\u001B[1;31mTypeError\u001B[0m: __init__() takes 3 positional arguments but 4 were given"
     ]
    }
   ],
   "source": [
    "# 9-7 管理员\n",
    "class User:\n",
    "    def __init__(self, first, last, **attributes):\n",
    "        self.first_name = first\n",
    "        self.last_name = last\n",
    "        # 用一个字典来存储其他信息\n",
    "        self.other_attributes = attributes\n",
    "        self.login_attempts = 0\n",
    "\n",
    "    def increment_login_attempts(self):\n",
    "        self.login_attempts += 1\n",
    "\n",
    "    def reset_login_attempts(self):\n",
    "        self.login_attempts = 0\n",
    "\n",
    "    def conjunction_of_name(self):\n",
    "        return (self.first_name + ' ' + self.last_name).title()\n",
    "\n",
    "    def describe_user(self):\n",
    "        print(f\"user {self.conjunction_of_name()}'s attributes are {self.other_attributes}\")\n",
    "\n",
    "    def greet_user(self):\n",
    "        print(f\"Hello {self.conjunction_of_name()}\")\n",
    "\n",
    "\n",
    "class Admin(User):\n",
    "    def __init__(self, first, last, **attributes):\n",
    "        super().__init__(first, last, attributes)\n",
    "        self.privileges = \"can add post\"\n",
    "\n",
    "    def show_privileges(self):\n",
    "        full_name = f\"{self.first_name} {self.last_name}\".title()\n",
    "        print(f\"Admin {full_name} has privilege: {self.privileges}\")\n",
    "\n",
    "\n",
    "admin = Admin('Erikson', 'Hou', type='admin')\n",
    "admin.show_privileges()"
   ],
   "metadata": {
    "collapsed": false,
    "pycharm": {
     "name": "#%%\n"
    }
   }
  },
  {
   "cell_type": "code",
   "execution_count": null,
   "outputs": [],
   "source": [],
   "metadata": {
    "collapsed": false,
    "pycharm": {
     "name": "#%%\n"
    }
   }
  }
 ],
 "metadata": {
  "kernelspec": {
   "display_name": "Python 3",
   "language": "python",
   "name": "python3"
  },
  "language_info": {
   "codemirror_mode": {
    "name": "ipython",
    "version": 2
   },
   "file_extension": ".py",
   "mimetype": "text/x-python",
   "name": "python",
   "nbconvert_exporter": "python",
   "pygments_lexer": "ipython2",
   "version": "2.7.6"
  }
 },
 "nbformat": 4,
 "nbformat_minor": 0
}