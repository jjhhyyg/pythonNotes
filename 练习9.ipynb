{
 "cells": [
  {
   "cell_type": "code",
   "execution_count": 1,
   "metadata": {
    "collapsed": true
   },
   "outputs": [
    {
     "name": "stdout",
     "output_type": "stream",
     "text": [
      "芜湖食堂\n",
      "徽菜\n",
      "The restaurant name is 芜湖食堂 and it's cuisine type is 徽菜\n",
      "restaurant 芜湖食堂 is now open!\n"
     ]
    }
   ],
   "source": [
    "# 9-1 餐馆\n",
    "class Restaurant:\n",
    "    def __init__(self, name, cuisine_type):\n",
    "        self.restaurant_name = name\n",
    "        self.cuisine_type = cuisine_type\n",
    "\n",
    "    def describe_restaurant(self):\n",
    "        print(f\"The restaurant name is {self.restaurant_name} and \"\n",
    "              f\"it's cuisine type is {self.cuisine_type}\")\n",
    "\n",
    "    def open_restaurant(self):\n",
    "        print(f\"restaurant {self.restaurant_name} is now open!\")\n",
    "\n",
    "\n",
    "r = Restaurant('芜湖食堂', '徽菜')\n",
    "print(r.restaurant_name)\n",
    "print(r.cuisine_type)\n",
    "r.describe_restaurant()\n",
    "r.open_restaurant()"
   ]
  },
  {
   "cell_type": "code",
   "execution_count": 3,
   "outputs": [
    {
     "name": "stdout",
     "output_type": "stream",
     "text": [
      "restaurant 芜湖食堂 is now open!\n",
      "restaurant 小渝府 is now open!\n",
      "restaurant 桥香园 is now open!\n"
     ]
    }
   ],
   "source": [
    "# 9-2 三家餐馆\n",
    "class Restaurant:\n",
    "    def __init__(self, name, cuisine_type):\n",
    "        self.restaurant_name = name\n",
    "        self.cuisine_type = cuisine_type\n",
    "\n",
    "    def describe_restaurant(self):\n",
    "        print(f\"The restaurant name is {self.restaurant_name} and \"\n",
    "              f\"it's cuisine type is {self.cuisine_type}\")\n",
    "\n",
    "    def open_restaurant(self):\n",
    "        print(f\"restaurant {self.restaurant_name} is now open!\")\n",
    "\n",
    "\n",
    "r1 = Restaurant('芜湖食堂', '徽菜')\n",
    "r2 = Restaurant('小渝府', '川菜')\n",
    "r3 = Restaurant(cuisine_type='云南菜', name='桥香园')\n",
    "r1.open_restaurant()\n",
    "r2.open_restaurant()\n",
    "r3.open_restaurant()"
   ],
   "metadata": {
    "collapsed": false,
    "pycharm": {
     "name": "#%%\n"
    }
   }
  },
  {
   "cell_type": "code",
   "execution_count": 1,
   "outputs": [
    {
     "name": "stdout",
     "output_type": "stream",
     "text": [
      "user Erikson Hou's attributes are {'favorite_food': 'hamburger', 'favorite_band': 'Linkin Park'}\n",
      "Hello Erikson Hou\n"
     ]
    }
   ],
   "source": [
    "# 9-3 用户\n",
    "class User:\n",
    "    def __init__(self, first, last, **attributes):\n",
    "        self.first_name = first\n",
    "        self.last_name = last\n",
    "        # 用一个字典来存储其他信息\n",
    "        self.other_attributes = attributes\n",
    "\n",
    "    def conjunction_of_name(self):\n",
    "        return (self.first_name + ' ' + self.last_name).title()\n",
    "\n",
    "    def describe_user(self):\n",
    "        print(f\"user {self.conjunction_of_name()}'s attributes are {self.other_attributes}\")\n",
    "\n",
    "    def greet_user(self):\n",
    "        print(f\"Hello {self.conjunction_of_name()}\")\n",
    "\n",
    "\n",
    "user = User('Erikson', 'Hou', favorite_food='hamburger', favorite_band='Linkin Park')\n",
    "user.describe_user()\n",
    "user.greet_user()"
   ],
   "metadata": {
    "collapsed": false,
    "pycharm": {
     "name": "#%%\n"
    }
   }
  },
  {
   "cell_type": "code",
   "execution_count": 3,
   "outputs": [
    {
     "name": "stdout",
     "output_type": "stream",
     "text": [
      "0 persons have had meals in 芜湖食堂\n",
      "20 persons have had meals in 芜湖食堂\n",
      "50 persons have had meals in 芜湖食堂\n"
     ]
    }
   ],
   "source": [
    "# 9-4 就餐人数\n",
    "class Restaurant:\n",
    "    def __init__(self, name, cuisine_type):\n",
    "        self.restaurant_name = name\n",
    "        self.cuisine_type = cuisine_type\n",
    "        self.number_served = 0\n",
    "\n",
    "    def describe_restaurant(self):\n",
    "        print(f\"The restaurant name is {self.restaurant_name} and \"\n",
    "              f\"it's cuisine type is {self.cuisine_type}\")\n",
    "\n",
    "    def open_restaurant(self):\n",
    "        print(f\"restaurant {self.restaurant_name} is now open!\")\n",
    "\n",
    "    def set_number_served(self, number):\n",
    "        self.number_served = number\n",
    "\n",
    "    def increment_number_served(self, number):\n",
    "        self.number_served += number\n",
    "\n",
    "\n",
    "r = Restaurant('芜湖食堂', '徽菜')\n",
    "print(f\"{r.number_served} persons have had meals in {r.restaurant_name}\")\n",
    "r.set_number_served(20)\n",
    "print(f\"{r.number_served} persons have had meals in {r.restaurant_name}\")\n",
    "r.increment_number_served(30)\n",
    "print(f\"{r.number_served} persons have had meals in {r.restaurant_name}\")"
   ],
   "metadata": {
    "collapsed": false,
    "pycharm": {
     "name": "#%%\n"
    }
   }
  },
  {
   "cell_type": "code",
   "execution_count": 6,
   "outputs": [
    {
     "name": "stdout",
     "output_type": "stream",
     "text": [
      "login failed for 1 times.\n",
      "login failed for 2 times.\n",
      "login failed for 3 times.\n",
      "login failed for 0 times.\n"
     ]
    }
   ],
   "source": [
    "# 9-5 尝试登陆次数\n",
    "class User:\n",
    "    def __init__(self, first, last, **attributes):\n",
    "        self.first_name = first\n",
    "        self.last_name = last\n",
    "        # 用一个字典来存储其他信息\n",
    "        self.other_attributes = attributes\n",
    "        self.login_attempts = 0\n",
    "\n",
    "    def increment_login_attempts(self):\n",
    "        self.login_attempts += 1\n",
    "\n",
    "    def reset_login_attempts(self):\n",
    "        self.login_attempts = 0\n",
    "\n",
    "    def conjunction_of_name(self):\n",
    "        return (self.first_name + ' ' + self.last_name).title()\n",
    "\n",
    "    def describe_user(self):\n",
    "        print(f\"user {self.conjunction_of_name()}'s attributes are {self.other_attributes}\")\n",
    "\n",
    "    def greet_user(self):\n",
    "        print(f\"Hello {self.conjunction_of_name()}\")\n",
    "\n",
    "\n",
    "user = User('Erikson', 'Hou', favorite_food='hamburger', favorite_band='Linkin Park')\n",
    "user.increment_login_attempts()\n",
    "print(f\"login failed for {user.login_attempts} times.\")\n",
    "user.increment_login_attempts()\n",
    "print(f\"login failed for {user.login_attempts} times.\")\n",
    "user.increment_login_attempts()\n",
    "print(f\"login failed for {user.login_attempts} times.\")\n",
    "user.reset_login_attempts()\n",
    "print(f\"login failed for {user.login_attempts} times.\")"
   ],
   "metadata": {
    "collapsed": false,
    "pycharm": {
     "name": "#%%\n"
    }
   }
  },
  {
   "cell_type": "code",
   "execution_count": 8,
   "outputs": [
    {
     "name": "stdout",
     "output_type": "stream",
     "text": [
      "Restaurant poppy has 3 flavors:\n",
      "- chocolate\n",
      "- strawberry\n",
      "- lemon\n"
     ]
    }
   ],
   "source": [
    "# 9-6 print 冰激凌小店\n",
    "class Restaurant:\n",
    "    def __init__(self, name, cuisine_type):\n",
    "        self.restaurant_name = name\n",
    "        self.cuisine_type = cuisine_type\n",
    "        self.number_served = 0\n",
    "\n",
    "    def describe_restaurant(self):\n",
    "        print(f\"The restaurant name is {self.restaurant_name} and \"\n",
    "              f\"it's cuisine type is {self.cuisine_type}\")\n",
    "\n",
    "    def open_restaurant(self):\n",
    "        print(f\"restaurant {self.restaurant_name} is now open!\")\n",
    "\n",
    "    def set_number_served(self, number):\n",
    "        self.number_served = number\n",
    "\n",
    "    def increment_number_served(self, number):\n",
    "        self.number_served += number\n",
    "\n",
    "\n",
    "class IceCreamStand(Restaurant):\n",
    "    def __init__(self, name, cuisine_type, flavors):\n",
    "        super().__init__(name, cuisine_type)\n",
    "        self.flavors = flavors\n",
    "\n",
    "    def describe_flavors(self):\n",
    "        print(f\"Restaurant {self.restaurant_name} has {len(self.flavors)} flavors:\")\n",
    "        for flavor in self.flavors:\n",
    "            print(f\"- {flavor}\")\n",
    "\n",
    "\n",
    "stand = IceCreamStand('poppy', 'icecream', ['chocolate', 'strawberry', 'lemon'])\n",
    "stand.describe_flavors()"
   ],
   "metadata": {
    "collapsed": false,
    "pycharm": {
     "name": "#%%\n"
    }
   }
  },
  {
   "cell_type": "code",
   "execution_count": 11,
   "outputs": [
    {
     "name": "stdout",
     "output_type": "stream",
     "text": [
      "Admin Erikson Hou has privilege: can add post\n",
      "{'type': 'admin'}\n"
     ]
    }
   ],
   "source": [
    "# 9-7 管理员\n",
    "class User:\n",
    "    def __init__(self, first, last, **attributes):\n",
    "        self.first_name = first\n",
    "        self.last_name = last\n",
    "        # 用一个字典来存储其他信息\n",
    "        self.other_attributes = attributes\n",
    "        self.login_attempts = 0\n",
    "\n",
    "    def increment_login_attempts(self):\n",
    "        self.login_attempts += 1\n",
    "\n",
    "    def reset_login_attempts(self):\n",
    "        self.login_attempts = 0\n",
    "\n",
    "    def conjunction_of_name(self):\n",
    "        return (self.first_name + ' ' + self.last_name).title()\n",
    "\n",
    "    def describe_user(self):\n",
    "        print(f\"user {self.conjunction_of_name()}'s attributes are {self.other_attributes}\")\n",
    "\n",
    "    def greet_user(self):\n",
    "        print(f\"Hello {self.conjunction_of_name()}\")\n",
    "\n",
    "\n",
    "class Admin(User):\n",
    "    def __init__(self, first, last, **attributes):\n",
    "        # 这儿要注意不能用attributes而要用**attributes\n",
    "        super().__init__(first, last, **attributes)\n",
    "        self.privileges = \"can add post\"\n",
    "\n",
    "    def show_privileges(self):\n",
    "        full_name = f\"{self.first_name} {self.last_name}\".title()\n",
    "        print(f\"Admin {full_name} has privilege: {self.privileges}\")\n",
    "\n",
    "\n",
    "admin = Admin('Erikson', 'Hou', type='admin')\n",
    "admin.show_privileges()\n",
    "print(admin.other_attributes)"
   ],
   "metadata": {
    "collapsed": false,
    "pycharm": {
     "name": "#%%\n"
    }
   }
  },
  {
   "cell_type": "code",
   "execution_count": 14,
   "outputs": [
    {
     "name": "stdout",
     "output_type": "stream",
     "text": [
      "This car can go about 260 miles on a full charge.\n",
      "This car can go about 315 miles on a full charge.\n"
     ]
    }
   ],
   "source": [
    "# 9-9 电瓶升级\n",
    "class Car:\n",
    "    \"\"\"\n",
    "    - 一次模拟汽车的简单尝试\n",
    "    \"\"\"\n",
    "\n",
    "    def __init__(self, make, model, year):\n",
    "        self.make = make\n",
    "        self.model = model\n",
    "        self.year = year\n",
    "        self.odometer_reading = 0\n",
    "\n",
    "    def get_descriptive_name(self):\n",
    "        long_name = f\"{self.year} {self.make} {self.model}\"\n",
    "        return long_name\n",
    "\n",
    "    def read_odometer(self):\n",
    "        print(f\"This car has {self.odometer_reading} miles on it.\")\n",
    "\n",
    "    def update_odometer(self, mileage):\n",
    "        if mileage >= self.odometer_reading:\n",
    "            self.odometer_reading = mileage\n",
    "        else:\n",
    "            print(\"You can't roll back an odometer!\")\n",
    "\n",
    "    def increment_odometer(self, miles):\n",
    "        self.odometer_reading += miles\n",
    "\n",
    "    def fill_gas_tank(self):\n",
    "        print(\"Gas tank filled up!\")\n",
    "\n",
    "\n",
    "class Battery:\n",
    "    \"\"\"\n",
    "    - 一次模拟电动汽车电瓶的简单尝试\n",
    "    \"\"\"\n",
    "\n",
    "    def __init__(self, battery_size=75):\n",
    "        self.battery_size = battery_size\n",
    "\n",
    "    def describe_battery(self):\n",
    "        print(f\"This car has a {self.battery_size}-kWh battery.\")\n",
    "\n",
    "    def upgrade_battery(self):\n",
    "        if self.battery_size == 75:\n",
    "            self.battery_size = 100\n",
    "\n",
    "    def get_range(self):\n",
    "        if self.battery_size == 75:\n",
    "            range = 260\n",
    "        elif self.battery_size == 100:\n",
    "            range = 315\n",
    "        print(f\"This car can go about {range} miles on a full charge.\")\n",
    "\n",
    "\n",
    "class ElectricCar(Car):\n",
    "    \"\"\"\n",
    "    - 电动汽车的独特之处\n",
    "    \"\"\"\n",
    "\n",
    "    def __init__(self, make, model, year):\n",
    "        # 初始化父类的属性\n",
    "        super().__init__(make, model, year)\n",
    "        self.battery = Battery()\n",
    "\n",
    "    def describe_battery(self):\n",
    "        # 打印一条描述电瓶容量的消息\n",
    "        print(f\"This car has a {self.battery_size}-kWh battery.\")\n",
    "\n",
    "    def fill_gas_tank(self):\n",
    "        # 重写父类方法\n",
    "        print(\"This car doesn't need a gas tank!\")\n",
    "\n",
    "\n",
    "my_tesla = ElectricCar('tesla', 'model s', 2019)\n",
    "my_tesla.battery.get_range()\n",
    "my_tesla.battery.upgrade_battery()\n",
    "my_tesla.battery.get_range()"
   ],
   "metadata": {
    "collapsed": false,
    "pycharm": {
     "name": "#%%\n"
    }
   }
  },
  {
   "cell_type": "code",
   "execution_count": 16,
   "outputs": [],
   "source": [
    "# 9-10 ~ 9-12略"
   ],
   "metadata": {
    "collapsed": false,
    "pycharm": {
     "name": "#%%\n"
    }
   }
  },
  {
   "cell_type": "code",
   "execution_count": 25,
   "outputs": [
    {
     "name": "stdout",
     "output_type": "stream",
     "text": [
      "rolled at 5 point.\n",
      "rolled at 1 point.\n",
      "rolled at 2 point.\n",
      "rolled at 3 point.\n",
      "rolled at 5 point.\n",
      "rolled at 4 point.\n",
      "rolled at 4 point.\n",
      "rolled at 4 point.\n",
      "rolled at 3 point.\n",
      "rolled at 3 point.\n",
      "rolled at 1 point.\n",
      "rolled at 2 point.\n",
      "rolled at 6 point.\n",
      "rolled at 10 point.\n",
      "rolled at 9 point.\n",
      "rolled at 2 point.\n",
      "rolled at 9 point.\n",
      "rolled at 5 point.\n",
      "rolled at 5 point.\n",
      "rolled at 7 point.\n",
      "rolled at 12 point.\n",
      "rolled at 11 point.\n",
      "rolled at 3 point.\n",
      "rolled at 2 point.\n",
      "rolled at 8 point.\n",
      "rolled at 15 point.\n",
      "rolled at 3 point.\n",
      "rolled at 5 point.\n",
      "rolled at 10 point.\n",
      "rolled at 13 point.\n"
     ]
    }
   ],
   "source": [
    "# 9-13 骰子\n",
    "from random import randint\n",
    "\n",
    "\n",
    "class Die:\n",
    "    def __init__(self, sides=6):\n",
    "        self.sides = sides\n",
    "\n",
    "    def roll_die(self):\n",
    "        point = randint(1, self.sides)\n",
    "        print(f\"rolled at {point} point.\")\n",
    "\n",
    "    def set_sides(self, sides):\n",
    "        self.sides = sides\n",
    "\n",
    "\n",
    "die = Die()\n",
    "for i in range(0, 10):\n",
    "    die.roll_die()\n",
    "die.set_sides(10)\n",
    "for i in range(0, 10):\n",
    "    die.roll_die()\n",
    "die.set_sides(20)\n",
    "for i in range(0, 10):\n",
    "    die.roll_die()"
   ],
   "metadata": {
    "collapsed": false,
    "pycharm": {
     "name": "#%%\n"
    }
   }
  },
  {
   "cell_type": "code",
   "execution_count": 1,
   "outputs": [
    {
     "name": "stdout",
     "output_type": "stream",
     "text": [
      "Only when words on the ticket are [36, 'p', 16, 'g'] can you won the prize.\n"
     ]
    }
   ],
   "source": [
    "# 9-14 彩票\n",
    "from random import choice\n",
    "l = (1, 4, 8, 10, 13, 16, 20, 25, 36, 37, 'c', 'u', 'g', 'p', 'r')\n",
    "lottery = []\n",
    "i = 0\n",
    "while True:\n",
    "    tmp = choice(l)\n",
    "    if tmp not in lottery:\n",
    "        lottery.append(tmp)\n",
    "        i+=1\n",
    "    if i==4:\n",
    "        break\n",
    "\n",
    "\n",
    "print(f\"Only when words on the ticket are {lottery} can you won the prize.\")"
   ],
   "metadata": {
    "collapsed": false,
    "pycharm": {
     "name": "#%%\n"
    }
   }
  },
  {
   "cell_type": "code",
   "execution_count": 4,
   "outputs": [
    {
     "name": "stdout",
     "output_type": "stream",
     "text": [
      "after 23 times did you get the lottery number.\n",
      "lottery: [8, 36, 16, 'g']\n",
      "my ticket: [36, 16, 'g', 8]\n"
     ]
    }
   ],
   "source": [
    "# 9-15 彩票分析\n",
    "from random import choice\n",
    "l = (1, 4, 8, 10, 13, 16, 20, 25, 36, 37, 'c', 'u', 'g', 'p', 'r')\n",
    "lottery = []\n",
    "i = 0\n",
    "while True:\n",
    "    tmp = choice(l)\n",
    "    if tmp not in lottery:\n",
    "        lottery.append(tmp)\n",
    "        i+=1\n",
    "    if i==4:\n",
    "        break\n",
    "cnt = 0\n",
    "my_ticket = []\n",
    "while set(my_ticket) != set(lottery):\n",
    "    tmp = choice(l)\n",
    "    if tmp in lottery and tmp not in my_ticket:\n",
    "        my_ticket.append(tmp)\n",
    "    cnt+=1\n",
    "\n",
    "\n",
    "print(f\"after {cnt} times did you get the lottery number.\")\n",
    "print(f\"lottery: {lottery}\")\n",
    "print(f\"my ticket: {my_ticket}\")"
   ],
   "metadata": {
    "collapsed": false,
    "pycharm": {
     "name": "#%%\n"
    }
   }
  },
  {
   "cell_type": "code",
   "execution_count": null,
   "outputs": [],
   "source": [
    "# 9-16 Python Module of the Week 了解Python标准库的一个网站\n",
    "# 网址: https://pymotw.com/3/"
   ],
   "metadata": {
    "collapsed": false,
    "pycharm": {
     "name": "#%%\n"
    }
   }
  }
 ],
 "metadata": {
  "kernelspec": {
   "display_name": "Python 3",
   "language": "python",
   "name": "python3"
  },
  "language_info": {
   "codemirror_mode": {
    "name": "ipython",
    "version": 2
   },
   "file_extension": ".py",
   "mimetype": "text/x-python",
   "name": "python",
   "nbconvert_exporter": "python",
   "pygments_lexer": "ipython2",
   "version": "2.7.6"
  }
 },
 "nbformat": 4,
 "nbformat_minor": 0
}