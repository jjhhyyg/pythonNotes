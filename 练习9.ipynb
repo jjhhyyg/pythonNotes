{
 "cells": [
  {
   "cell_type": "code",
   "execution_count": 1,
   "metadata": {
    "collapsed": true
   },
   "outputs": [
    {
     "name": "stdout",
     "output_type": "stream",
     "text": [
      "芜湖食堂\n",
      "徽菜\n",
      "The restaurant name is 芜湖食堂 and it's cuisine type is 徽菜\n",
      "restaurant 芜湖食堂 is now open!\n"
     ]
    }
   ],
   "source": [
    "# 9-1 餐馆\n",
    "class Restaurant:\n",
    "    def __init__(self, name, cuisine_type):\n",
    "        self.restaurant_name = name\n",
    "        self.cuisine_type = cuisine_type\n",
    "\n",
    "    def describe_restaurant(self):\n",
    "        print(f\"The restaurant name is {self.restaurant_name} and \"\n",
    "              f\"it's cuisine type is {self.cuisine_type}\")\n",
    "\n",
    "    def open_restaurant(self):\n",
    "        print(f\"restaurant {self.restaurant_name} is now open!\")\n",
    "\n",
    "\n",
    "r = Restaurant('芜湖食堂', '徽菜')\n",
    "print(r.restaurant_name)\n",
    "print(r.cuisine_type)\n",
    "r.describe_restaurant()\n",
    "r.open_restaurant()"
   ]
  },
  {
   "cell_type": "code",
   "execution_count": 3,
   "outputs": [
    {
     "name": "stdout",
     "output_type": "stream",
     "text": [
      "restaurant 芜湖食堂 is now open!\n",
      "restaurant 小渝府 is now open!\n",
      "restaurant 桥香园 is now open!\n"
     ]
    }
   ],
   "source": [
    "# 9-2 三家餐馆\n",
    "class Restaurant:\n",
    "    def __init__(self, name, cuisine_type):\n",
    "        self.restaurant_name = name\n",
    "        self.cuisine_type = cuisine_type\n",
    "\n",
    "    def describe_restaurant(self):\n",
    "        print(f\"The restaurant name is {self.restaurant_name} and \"\n",
    "              f\"it's cuisine type is {self.cuisine_type}\")\n",
    "\n",
    "    def open_restaurant(self):\n",
    "        print(f\"restaurant {self.restaurant_name} is now open!\")\n",
    "\n",
    "\n",
    "r1 = Restaurant('芜湖食堂', '徽菜')\n",
    "r2 = Restaurant('小渝府', '川菜')\n",
    "r3 = Restaurant(cuisine_type='云南菜', name='桥香园')\n",
    "r1.open_restaurant()\n",
    "r2.open_restaurant()\n",
    "r3.open_restaurant()"
   ],
   "metadata": {
    "collapsed": false,
    "pycharm": {
     "name": "#%%\n"
    }
   }
  },
  {
   "cell_type": "code",
   "execution_count": 4,
   "outputs": [
    {
     "name": "stdout",
     "output_type": "stream",
     "text": [
      "user Erikson Hou's attributes are {'favorite_food': 'hamburger', 'favorite_band': 'Linkin Park'}\n",
      "Hello Erikson Hou\n"
     ]
    }
   ],
   "source": [
    "# 9-3 用户\n",
    "class User:\n",
    "    def __init__(self, first, last, **attributes):\n",
    "        self.first_name = first\n",
    "        self.last_name = last\n",
    "        # 用一个字典来存储其他信息\n",
    "        self.other_attributes = attributes\n",
    "\n",
    "    def conjunction_of_name(self):\n",
    "        return (self.first_name + ' ' + self.last_name).title()\n",
    "\n",
    "    def describe_user(self):\n",
    "        print(f\"user {self.conjunction_of_name()}'s attributes are {self.other_attributes}\")\n",
    "\n",
    "    def greet_user(self):\n",
    "        print(f\"Hello {self.conjunction_of_name()}\")\n",
    "\n",
    "\n",
    "user = User('Erikson', 'Hou', favorite_food='hamburger', favorite_band='Linkin Park')\n",
    "user.describe_user()\n",
    "user.greet_user()"
   ],
   "metadata": {
    "collapsed": false,
    "pycharm": {
     "name": "#%%\n"
    }
   }
  },
  {
   "cell_type": "code",
   "execution_count": null,
   "outputs": [],
   "source": [],
   "metadata": {
    "collapsed": false,
    "pycharm": {
     "name": "#%%\n"
    }
   }
  }
 ],
 "metadata": {
  "kernelspec": {
   "display_name": "Python 3",
   "language": "python",
   "name": "python3"
  },
  "language_info": {
   "codemirror_mode": {
    "name": "ipython",
    "version": 2
   },
   "file_extension": ".py",
   "mimetype": "text/x-python",
   "name": "python",
   "nbconvert_exporter": "python",
   "pygments_lexer": "ipython2",
   "version": "2.7.6"
  }
 },
 "nbformat": 4,
 "nbformat_minor": 0
}