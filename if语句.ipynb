{
 "cells": [
  {
   "cell_type": "code",
   "execution_count": 20,
   "id": "5ef41f68",
   "metadata": {},
   "outputs": [],
   "source": [
    "s0 = \"\"\n",
    "s1 = \"aBcDeF\"\n",
    "s2 = \"AbCdEf\"\n",
    "s3 = \"apple\"\n",
    "s4 = \"banana\""
   ]
  },
  {
   "cell_type": "markdown",
   "id": "393d9994",
   "metadata": {},
   "source": [
    "#### 字符串的lower()和upper()"
   ]
  },
  {
   "cell_type": "code",
   "execution_count": 5,
   "id": "e9b3ede2",
   "metadata": {},
   "outputs": [
    {
     "name": "stdout",
     "output_type": "stream",
     "text": [
      "True\n"
     ]
    }
   ],
   "source": [
    "print(s1.lower()==s2.lower())\n",
    "print(s1.upper()==s2.upper())"
   ]
  },
  {
   "cell_type": "markdown",
   "id": "1d331d49",
   "metadata": {},
   "source": [
    "#### 字符串的and和or\n",
    "> 规律：  \n",
    "> or连接的所有字符串中选取**第一个非空**字符串作为运算结果  \n",
    "> and连接的所有字符串中，如果有空字符串，则返回空字符串，否则选取**最后一个字符串**作为运算结果"
   ]
  },
  {
   "cell_type": "code",
   "execution_count": 21,
   "id": "b85f4ae7",
   "metadata": {},
   "outputs": [
    {
     "name": "stdout",
     "output_type": "stream",
     "text": [
      "aBcDeF\n",
      "AbCdEf\n",
      "aBcDeF\n",
      "aBcDeF\n"
     ]
    }
   ],
   "source": [
    "print(s1 or s2)\n",
    "print(s2 or s1)\n",
    "print(s1 or s2 or s3 or s4)\n",
    "print(s0 or s1)"
   ]
  },
  {
   "cell_type": "code",
   "execution_count": 23,
   "id": "dce9c93d",
   "metadata": {},
   "outputs": [
    {
     "name": "stdout",
     "output_type": "stream",
     "text": [
      "AbCdEf\n",
      "aBcDeF\n",
      "banana\n",
      "\n",
      "\n"
     ]
    }
   ],
   "source": [
    "print(s1 and s2)\n",
    "print(s2 and s1)\n",
    "print(s1 and s2 and s3 and s4)\n",
    "print(s0 and s1)\n",
    "print(s1 and s2 and s3 and s0 and s4)"
   ]
  },
  {
   "cell_type": "markdown",
   "id": "aa7ddd48",
   "metadata": {},
   "source": [
    "#### 字符串比较：依次比较ASCII码"
   ]
  },
  {
   "cell_type": "code",
   "execution_count": 13,
   "id": "0dd9253a",
   "metadata": {},
   "outputs": [
    {
     "name": "stdout",
     "output_type": "stream",
     "text": [
      "False\n",
      "True\n",
      "True\n",
      "True\n",
      "False\n",
      "False\n"
     ]
    }
   ],
   "source": [
    "print(s1==s2)\n",
    "print(s1!=s2)\n",
    "print(s1>s2)\n",
    "print(s1>=s2)\n",
    "print(s1<s2)\n",
    "print(s1<=s2)"
   ]
  },
  {
   "cell_type": "code",
   "execution_count": 26,
   "id": "a7007b08",
   "metadata": {},
   "outputs": [
    {
     "name": "stdout",
     "output_type": "stream",
     "text": [
      "Please input your name:john\n",
      "Hello again!\n"
     ]
    }
   ],
   "source": [
    "# 用户列表\n",
    "current_users = [\"admin\", \"Eric\", \"Catherine\", \"Adam\", \"John\"]\n",
    "\n",
    "# 创建小写副本\n",
    "current_users_lowercase = []\n",
    "for i in current_users:\n",
    "    current_users_lowercase.append(i.lower())\n",
    "\n",
    "# 输入用户名\n",
    "user = input(\"Please input your name:\")\n",
    "\n",
    "# 通过不同的user输出不同的问候语\n",
    "if(user==\"\"):\n",
    "    pass\n",
    "elif(user == 'admin'):\n",
    "    print(\"Hello admin!\")\n",
    "elif(user.lower() in current_users_lowercase):\n",
    "    print(\"Hello again!\")\n",
    "else:\n",
    "    print(\"Hello new user!\")"
   ]
  },
  {
   "cell_type": "code",
   "execution_count": null,
   "id": "ebe3d7f4",
   "metadata": {},
   "outputs": [],
   "source": []
  }
 ],
 "metadata": {
  "kernelspec": {
   "display_name": "Python 3 (ipykernel)",
   "language": "python",
   "name": "python3"
  },
  "language_info": {
   "codemirror_mode": {
    "name": "ipython",
    "version": 3
   },
   "file_extension": ".py",
   "mimetype": "text/x-python",
   "name": "python",
   "nbconvert_exporter": "python",
   "pygments_lexer": "ipython3",
   "version": "3.7.11"
  }
 },
 "nbformat": 4,
 "nbformat_minor": 5
}
