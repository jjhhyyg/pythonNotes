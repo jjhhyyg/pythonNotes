{
 "cells": [
  {
   "cell_type": "code",
   "execution_count": 2,
   "metadata": {
    "collapsed": true
   },
   "outputs": [
    {
     "name": "stdout",
     "output_type": "stream",
     "text": [
      "In Python you can learn the list\n",
      "In Python you can learn the dict\n",
      "In Python you can learn the set\n",
      "In Python you can learn the class\n",
      "In Python you can learn the exception\n",
      "--------------------------------------\n",
      "In Python you can learn the list\n",
      "In Python you can learn the dict\n",
      "In Python you can learn the set\n",
      "In Python you can learn the class\n",
      "In Python you can learn the exception\n",
      "--------------------------------------\n",
      "In Python you can learn the list\n",
      "In Python you can learn the dict\n",
      "In Python you can learn the set\n",
      "In Python you can learn the class\n",
      "In Python you can learn the exception\n"
     ]
    }
   ],
   "source": [
    "# 10-1 Python学习笔记\n",
    "file_path = \"resources\"\n",
    "file_name = \"learning_python.txt\"\n",
    "# 读取整个文件\n",
    "with open(file_path + '/' + file_name) as f:\n",
    "    contents = f.read()\n",
    "print(contents)\n",
    "print('--------------------------------------')\n",
    "# 遍历文件对象\n",
    "with open(file_path + '/' + file_name) as f:\n",
    "    for line in f:\n",
    "        print(line.strip())\n",
    "# 把各行存储在列表中\n",
    "print('--------------------------------------')\n",
    "with open(file_path + '/' + file_name) as f:\n",
    "    lines = f.readlines()\n",
    "for line in lines:\n",
    "    print(line.strip())"
   ]
  },
  {
   "cell_type": "code",
   "execution_count": 4,
   "outputs": [
    {
     "name": "stdout",
     "output_type": "stream",
     "text": [
      "In C you can learn the list\n",
      "In C you can learn the dict\n",
      "In C you can learn the set\n",
      "In C you can learn the class\n",
      "In C you can learn the exception\n",
      "--------------------------------------\n",
      "In C you can learn the list\n",
      "In C you can learn the dict\n",
      "In C you can learn the set\n",
      "In C you can learn the class\n",
      "In C you can learn the exception\n",
      "--------------------------------------\n",
      "In C you can learn the list\n",
      "In C you can learn the dict\n",
      "In C you can learn the set\n",
      "In C you can learn the class\n",
      "In C you can learn the exception\n"
     ]
    }
   ],
   "source": [
    "# 10-2 C语言学习笔记\n",
    "file_path = \"resources\"\n",
    "file_name = \"learning_python.txt\"\n",
    "# 读取整个文件\n",
    "with open(file_path + '/' + file_name) as f:\n",
    "    contents = f.read()\n",
    "contents = contents.replace('Python', 'C')\n",
    "print(contents)\n",
    "print('--------------------------------------')\n",
    "# 遍历文件对象\n",
    "with open(file_path + '/' + file_name) as f:\n",
    "    for line in f:\n",
    "        line = line.replace('Python', 'C')\n",
    "        print(line.strip())\n",
    "# 把各行存储在列表中\n",
    "print('--------------------------------------')\n",
    "with open(file_path + '/' + file_name) as f:\n",
    "    lines = f.readlines()\n",
    "for line in lines:\n",
    "    line = line.replace('Python', 'C')\n",
    "    print(line.strip())"
   ],
   "metadata": {
    "collapsed": false,
    "pycharm": {
     "name": "#%%\n"
    }
   }
  },
  {
   "cell_type": "code",
   "execution_count": 7,
   "outputs": [],
   "source": [
    "# 10-3 访客\n",
    "file_path = 'resources'\n",
    "file_name = 'guest.txt'\n",
    "\n",
    "guest_name = input(\"input your name:\")\n",
    "with open(file_path + '/' + file_name, 'w') as f:\n",
    "    f.write(guest_name)"
   ],
   "metadata": {
    "collapsed": false,
    "pycharm": {
     "name": "#%%\n"
    }
   }
  },
  {
   "cell_type": "code",
   "execution_count": 8,
   "outputs": [
    {
     "name": "stdout",
     "output_type": "stream",
     "text": [
      "Hello Eriksson\n",
      "Hello Catherine\n",
      "Hello Jane\n"
     ]
    }
   ],
   "source": [
    "# 10-4 访客名单\n",
    "file_path = 'resources'\n",
    "file_name = 'guest_book.txt'\n",
    "# 清空文件内容\n",
    "with open(file_path + '/' + file_name, 'w') as f:\n",
    "    pass\n",
    "\n",
    "guest_name = input(\"input your name:\")\n",
    "while guest_name != '#':\n",
    "    print(f\"Hello {guest_name}\")\n",
    "    with open(file_path + '/' + file_name, 'a') as f:\n",
    "        f.write(guest_name+'\\n')\n",
    "    guest_name = input(\"input your name:\")"
   ],
   "metadata": {
    "collapsed": false,
    "pycharm": {
     "name": "#%%\n"
    }
   }
  },
  {
   "cell_type": "code",
   "execution_count": 11,
   "outputs": [],
   "source": [
    "# 10-5 调查\n",
    "# 法1 将原因放入一个列表中，用writelines写入文件\n",
    "file_path = 'resources'\n",
    "file_name = 'reason_list.txt'\n",
    "# 清空文件内容\n",
    "with open(file_path + '/' + file_name, 'w') as f:\n",
    "    pass\n",
    "\n",
    "reason = input(\"why you're interested in programming?\\n\")\n",
    "reasons = []\n",
    "while reason!='#':\n",
    "    reasons.append(reason+'\\n')\n",
    "    reason = input(\"why you're interested in programming?\\n\")\n",
    "with open(file_path + '/' + file_name, 'w') as f:\n",
    "    f.writelines(reasons)"
   ],
   "metadata": {
    "collapsed": false,
    "pycharm": {
     "name": "#%%\n"
    }
   }
  },
  {
   "cell_type": "code",
   "execution_count": 13,
   "outputs": [],
   "source": [
    "# 10-5 调查\n",
    "# 法2 每输入一个原因就写入一个原因\n",
    "file_path = 'resources'\n",
    "file_name = 'reason_list.txt'\n",
    "# 清空文件内容\n",
    "with open(file_path + '/' + file_name, 'w') as f:\n",
    "    pass\n",
    "\n",
    "reason = input(\"why you're interested in programming?\\n\")\n",
    "while reason!='#':\n",
    "    with open(file_path + '/' + file_name, 'a') as f:\n",
    "        f.write(reason+'\\n')\n",
    "    reason = input(\"why you're interested in programming?\\n\")"
   ],
   "metadata": {
    "collapsed": false,
    "pycharm": {
     "name": "#%%\n"
    }
   }
  },
  {
   "cell_type": "code",
   "execution_count": 14,
   "outputs": [
    {
     "name": "stdout",
     "output_type": "stream",
     "text": [
      "Give me two numbers, and I'll add them.\n",
      "Enter 'q' to quit.\n",
      "The sum of 1 and 3 is 4\n",
      "Please input legal numbers!\n"
     ]
    }
   ],
   "source": [
    "# 10-6,10-7 加法运算\n",
    "print(\"Give me two numbers, and I'll add them.\")\n",
    "print(\"Enter 'q' to quit.\")\n",
    "while True:\n",
    "    first_number = input(\"First number:\")\n",
    "    if first_number=='q':\n",
    "        break\n",
    "    second_number = input(\"Second number:\")\n",
    "    if second_number=='q':\n",
    "        break\n",
    "    try:\n",
    "        sum = int(first_number) + int(second_number)\n",
    "    except ValueError:\n",
    "        print(\"Please input legal numbers!\")\n",
    "    else:\n",
    "        print(f\"The sum of {first_number} and {second_number} is {sum}\")"
   ],
   "metadata": {
    "collapsed": false,
    "pycharm": {
     "name": "#%%\n"
    }
   }
  },
  {
   "cell_type": "code",
   "execution_count": 20,
   "outputs": [
    {
     "name": "stdout",
     "output_type": "stream",
     "text": [
      "A\n",
      "B\n",
      "C\n",
      "D\n",
      "E\n",
      "---------------------\n",
      "File cats.txt not exist!\n"
     ]
    }
   ],
   "source": [
    "# 10-8 猫和狗\n",
    "file_path = \"resources\"\n",
    "dog_file_name = \"dogs.txt\"\n",
    "cat_file_name = \"cats.txt\"\n",
    "\n",
    "try:\n",
    "    with open(file_path+'/'+dog_file_name,'r',encoding='utf-8') as f:\n",
    "        for dog in f:\n",
    "            print(dog.strip())\n",
    "except FileNotFoundError:\n",
    "    print(f\"File {dog_file_name} not exist!\")\n",
    "print('---------------------')\n",
    "try:\n",
    "    with open(file_path+'/'+cat_file_name,'r',encoding='utf-8') as f:\n",
    "        for cat in f:\n",
    "            print(cat.strip())\n",
    "except FileNotFoundError:\n",
    "    print(f\"File {cat_file_name} not exist!\")"
   ],
   "metadata": {
    "collapsed": false,
    "pycharm": {
     "name": "#%%\n"
    }
   }
  },
  {
   "cell_type": "code",
   "execution_count": 21,
   "outputs": [
    {
     "name": "stdout",
     "output_type": "stream",
     "text": [
      "---------------------\n",
      "F\n",
      "G\n",
      "H\n",
      "I\n",
      "J\n"
     ]
    }
   ],
   "source": [
    "# 10-9 静默的猫和狗\n",
    "file_path = \"resources\"\n",
    "dog_file_name = \"dogs.txt\"\n",
    "cat_file_name = \"cats.txt\"\n",
    "\n",
    "try:\n",
    "    with open(file_path+'/'+dog_file_name,'r',encoding='utf-8') as f:\n",
    "        for dog in f:\n",
    "            print(dog.strip())\n",
    "except FileNotFoundError:\n",
    "    pass\n",
    "print('---------------------')\n",
    "try:\n",
    "    with open(file_path+'/'+cat_file_name,'r',encoding='utf-8') as f:\n",
    "        for cat in f:\n",
    "            print(cat.strip())\n",
    "except FileNotFoundError:\n",
    "    print(f\"File {cat_file_name} not exist!\")"
   ],
   "metadata": {
    "collapsed": false,
    "pycharm": {
     "name": "#%%\n"
    }
   }
  },
  {
   "cell_type": "code",
   "execution_count": 24,
   "outputs": [
    {
     "name": "stdout",
     "output_type": "stream",
     "text": [
      "cnt1 = 1584\n",
      "cnt2 = 841\n"
     ]
    }
   ],
   "source": [
    "# 10-10 常见单词\n",
    "file_path = \"resources\"\n",
    "file_name = \"book.txt\"\n",
    "\n",
    "try:\n",
    "    with open(file_path+'/'+file_name,'r',encoding='utf-8') as f:\n",
    "        contents = f.read()\n",
    "except FileNotFoundError:\n",
    "    pass\n",
    "else:\n",
    "    cnt1 = contents.lower().count('the')\n",
    "    cnt2 = contents.lower().count('the ')\n",
    "    print(f\"cnt1 = {cnt1}\")\n",
    "    print(f\"cnt2 = {cnt2}\")"
   ],
   "metadata": {
    "collapsed": false,
    "pycharm": {
     "name": "#%%\n"
    }
   }
  },
  {
   "cell_type": "code",
   "execution_count": 28,
   "outputs": [
    {
     "name": "stdout",
     "output_type": "stream",
     "text": [
      "I know your favorite number is 7\n"
     ]
    }
   ],
   "source": [
    "# 10-11,10-12 喜欢的数, 记住喜欢的数\n",
    "import json\n",
    "\n",
    "file_path = \"resources\"\n",
    "file_name = \"favorite_number.json\"\n",
    "\n",
    "try:\n",
    "    with open(file_path+'/'+file_name) as f:\n",
    "        favorite_number = json.load(f)\n",
    "except FileNotFoundError:\n",
    "    with open(file_path+'/'+file_name, 'w') as f:\n",
    "        favorite_number = input(\"What's your favorite number?\")\n",
    "        json.dump(favorite_number,f)\n",
    "else:\n",
    "    print(f\"I know your favorite number is {favorite_number}\")"
   ],
   "metadata": {
    "collapsed": false,
    "pycharm": {
     "name": "#%%\n"
    }
   }
  },
  {
   "cell_type": "code",
   "execution_count": 42,
   "outputs": [
    {
     "name": "stdout",
     "output_type": "stream",
     "text": [
      "Your username is Eric.\n",
      "Welcome back, Eric\n"
     ]
    }
   ],
   "source": [
    "# 10-13 验证用户\n",
    "import json\n",
    "file_path = \"resources\"\n",
    "file_name = \"username.json\"\n",
    "\n",
    "def get_stored_username():\n",
    "    \"\"\"If username was stored, get it.\"\"\"\n",
    "    try:\n",
    "        with open(file_path+'/'+file_name) as f:\n",
    "            username = json.load(f)\n",
    "    except FileNotFoundError:\n",
    "        return None\n",
    "    else:\n",
    "        return username\n",
    "\n",
    "def get_new_username():\n",
    "    \"\"\"\n",
    "    If updating username, store it and return new user name\n",
    "    :return: new username\n",
    "    \"\"\"\n",
    "    username = input(\"What's your name?\")\n",
    "    return username\n",
    "\n",
    "def greet_user():\n",
    "    \"\"\"Greet user and point out his/her name.\"\"\"\n",
    "    username = get_stored_username()\n",
    "    if username:\n",
    "        print(f\"Your username is {username}.\")\n",
    "        flag = input(\"is it correct? (y/n)\")\n",
    "        while True:\n",
    "            if flag=='y':\n",
    "                print(f\"Welcome back, {username}\")\n",
    "                break\n",
    "            elif flag=='n':\n",
    "                username = get_new_username()\n",
    "                with open(file_path+'/'+file_name, 'w') as f:\n",
    "                    json.dump(username,f)\n",
    "                print(f\"Username updated.\")\n",
    "                break\n",
    "            else:\n",
    "                print(f\"Your username is {username}.\")\n",
    "                flag = input(\"is it correct? (y/n)\")\n",
    "\n",
    "    else:\n",
    "        username = input(\"What's your name? \")\n",
    "        with open(file_path+'/'+file_name, 'w') as f:\n",
    "            json.dump(username,f)\n",
    "            print(f\"We'll remember you when you come back, {username}!\")\n",
    "\n",
    "greet_user()"
   ],
   "metadata": {
    "collapsed": false,
    "pycharm": {
     "name": "#%%\n"
    }
   }
  }
 ],
 "metadata": {
  "kernelspec": {
   "display_name": "Python 3",
   "language": "python",
   "name": "python3"
  },
  "language_info": {
   "codemirror_mode": {
    "name": "ipython",
    "version": 2
   },
   "file_extension": ".py",
   "mimetype": "text/x-python",
   "name": "python",
   "nbconvert_exporter": "python",
   "pygments_lexer": "ipython2",
   "version": "2.7.6"
  }
 },
 "nbformat": 4,
 "nbformat_minor": 0
}