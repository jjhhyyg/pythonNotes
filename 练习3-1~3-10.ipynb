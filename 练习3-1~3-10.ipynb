{
 "cells": [
  {
   "cell_type": "markdown",
   "id": "6f823325",
   "metadata": {},
   "source": [
    "#### 练习3-1 输出朋友姓名"
   ]
  },
  {
   "cell_type": "code",
   "execution_count": 23,
   "id": "a9c56d34",
   "metadata": {},
   "outputs": [
    {
     "name": "stdout",
     "output_type": "stream",
     "text": [
      "张三\n",
      "李四\n",
      "王五\n"
     ]
    }
   ],
   "source": [
    "names = [\"张三\", \"李四\", \"王五\"]\n",
    "for i in names:\n",
    "    print(i)"
   ]
  },
  {
   "cell_type": "code",
   "execution_count": 24,
   "id": "00c5360f",
   "metadata": {},
   "outputs": [
    {
     "name": "stdout",
     "output_type": "stream",
     "text": [
      "张三\n",
      "李四\n",
      "王五\n"
     ]
    }
   ],
   "source": [
    "names = [\"张三\", \"李四\", \"王五\"]\n",
    "for i in range(len(names)):\n",
    "    print(names[i])"
   ]
  },
  {
   "cell_type": "markdown",
   "id": "76dcefaf",
   "metadata": {},
   "source": [
    "#### 练习3-2 问候语"
   ]
  },
  {
   "cell_type": "code",
   "execution_count": 25,
   "id": "b505fb6e",
   "metadata": {},
   "outputs": [
    {
     "name": "stdout",
     "output_type": "stream",
     "text": [
      "Hello 张三\n",
      "Hello 李四\n",
      "Hello 王五\n"
     ]
    }
   ],
   "source": [
    "names = [\"张三\", \"李四\", \"王五\"]\n",
    "for i in names:\n",
    "    print(f\"Hello {i}\")"
   ]
  },
  {
   "cell_type": "markdown",
   "id": "f09fdad3",
   "metadata": {},
   "source": [
    "#### 练习3-3 自己的列表"
   ]
  },
  {
   "cell_type": "code",
   "execution_count": 26,
   "id": "1961cff0",
   "metadata": {},
   "outputs": [
    {
     "name": "stdout",
     "output_type": "stream",
     "text": [
      "I want a cat\n",
      "I want a dog\n",
      "I want a mouse\n",
      "I want a snake\n"
     ]
    }
   ],
   "source": [
    "vehicles = ['cat', 'dog', 'mouse', 'snake']\n",
    "for i in vehicles:\n",
    "    print(f\"I want a {i}\")"
   ]
  },
  {
   "cell_type": "markdown",
   "id": "7f7f6c40",
   "metadata": {},
   "source": [
    "#### 练习3-4 嘉宾名单"
   ]
  },
  {
   "cell_type": "code",
   "execution_count": 27,
   "id": "39b93d2b",
   "metadata": {},
   "outputs": [
    {
     "name": "stdout",
     "output_type": "stream",
     "text": [
      "I want to invite Catherine to my dinner.\n",
      "I want to invite John to my dinner.\n",
      "I want to invite Delphin to my dinner.\n"
     ]
    }
   ],
   "source": [
    "invitations = ['Catherine', 'John', 'Delphin']\n",
    "for i in invitations:\n",
    "    print(f\"I want to invite {i} to my dinner.\")"
   ]
  },
  {
   "cell_type": "markdown",
   "id": "322d54ce",
   "metadata": {},
   "source": [
    "#### 练习3-5 修改嘉宾名单"
   ]
  },
  {
   "cell_type": "code",
   "execution_count": 30,
   "id": "83e9acfd",
   "metadata": {},
   "outputs": [
    {
     "name": "stdout",
     "output_type": "stream",
     "text": [
      "I want to invite Catherine to my dinner.\n",
      "I want to invite John to my dinner.\n",
      "I want to invite Delphin to my dinner.\n",
      "But Delphin is far away from us, I decided to invite Elephant!\n",
      "\n",
      "I want to invite Catherine to my dinner.\n",
      "I want to invite John to my dinner.\n",
      "I want to invite Elephant to my dinner.\n"
     ]
    }
   ],
   "source": [
    "invitations = ['Catherine', 'John', 'Delphin']\n",
    "for i in invitations:\n",
    "    print(f\"I want to invite {i} to my dinner.\")\n",
    "print(\"\\nBut Delphin is far away from us, I decided to invite Elephant!\\n\")\n",
    "\n",
    "# 获取修改位置\n",
    "delIndex = invitations.index(\"Delphin\")\n",
    "\n",
    "# 修改名单\n",
    "invitations[delIndex] = 'Elephant'\n",
    "\n",
    "for i in invitations:\n",
    "    print(f\"I want to invite {i} to my dinner.\")"
   ]
  },
  {
   "cell_type": "markdown",
   "id": "192cf208",
   "metadata": {},
   "source": [
    "#### 练习3-6 添加嘉宾"
   ]
  },
  {
   "cell_type": "code",
   "execution_count": 29,
   "id": "c59e4280",
   "metadata": {},
   "outputs": [
    {
     "name": "stdout",
     "output_type": "stream",
     "text": [
      "I want to invite Catherine to my dinner.\n",
      "I want to invite John to my dinner.\n",
      "I want to invite Delphin to my dinner.\n",
      "We have a bigger table! Invite 3 more persons!\n",
      "\n",
      "I want to invite Mouse to my dinner.\n",
      "I want to invite Catherine to my dinner.\n",
      "I want to invite Cat to my dinner.\n",
      "I want to invite John to my dinner.\n",
      "I want to invite Delphin to my dinner.\n",
      "I want to invite Dog to my dinner.\n"
     ]
    }
   ],
   "source": [
    "invitations = ['Catherine', 'John', 'Delphin']\n",
    "for i in invitations:\n",
    "    print(f\"I want to invite {i} to my dinner.\")\n",
    "    \n",
    "print(\"\\nWe have a bigger table! Invite 3 more persons!\\n\")\n",
    "invitations.insert(0,\"Mouse\")\n",
    "invitations.insert(len(invitations)//2, \"Cat\")\n",
    "invitations.append(\"Dog\")\n",
    "\n",
    "for i in invitations:\n",
    "    print(f\"I want to invite {i} to my dinner.\")"
   ]
  },
  {
   "cell_type": "markdown",
   "id": "978079f9",
   "metadata": {},
   "source": [
    "#### 练习3-7 缩减名单"
   ]
  },
  {
   "cell_type": "code",
   "execution_count": 35,
   "id": "09300669",
   "metadata": {
    "scrolled": true
   },
   "outputs": [
    {
     "name": "stdout",
     "output_type": "stream",
     "text": [
      "I want to invite Catherine to my dinner.\n",
      "I want to invite John to my dinner.\n",
      "I want to invite Delphin to my dinner.\n",
      "\n",
      "We have a bigger table! Invite 3 more persons!\n",
      "\n",
      "I want to invite Mouse to my dinner.\n",
      "I want to invite Catherine to my dinner.\n",
      "I want to invite Cat to my dinner.\n",
      "I want to invite John to my dinner.\n",
      "I want to invite Delphin to my dinner.\n",
      "I want to invite Dog to my dinner.\n",
      "\n",
      "The table size shrank that it just fits 2 persons now...\n",
      "\n",
      "Sorry for Dog, you are removed from the invitation list.\n",
      "Sorry for Delphin, you are removed from the invitation list.\n",
      "Sorry for John, you are removed from the invitation list.\n",
      "Sorry for Cat, you are removed from the invitation list.\n",
      "You are still in the list Mouse!\n",
      "You are still in the list Catherine!\n",
      "[]\n"
     ]
    }
   ],
   "source": [
    "invitations = ['Catherine', 'John', 'Delphin']\n",
    "for i in invitations:\n",
    "    print(f\"I want to invite {i} to my dinner.\")\n",
    "    \n",
    "print(\"\\nWe have a bigger table! Invite 3 more persons!\\n\")\n",
    "invitations.insert(0,\"Mouse\")\n",
    "invitations.insert(len(invitations)//2, \"Cat\")\n",
    "invitations.append(\"Dog\")\n",
    "\n",
    "for i in invitations:\n",
    "    print(f\"I want to invite {i} to my dinner.\")\n",
    "    \n",
    "    \n",
    "# 3-6原题👆\n",
    "\n",
    "print(\"\\nThe table size shrank that it just fits 2 persons now...\\n\")\n",
    "\n",
    "while(len(invitations)>2):\n",
    "    deletedName = invitations.pop()\n",
    "    print(f\"Sorry for {deletedName}, you are removed from the invitation list.\")\n",
    "\n",
    "for i in invitations:\n",
    "    print(f\"You are still in the list {i}!\")\n",
    "    \n",
    "while(len(invitations)):\n",
    "    invitations.pop()\n",
    "    \n",
    "print(invitations)"
   ]
  },
  {
   "cell_type": "markdown",
   "id": "7b5ea4d5",
   "metadata": {},
   "source": [
    "#### 练习3-8 放眼世界"
   ]
  },
  {
   "cell_type": "code",
   "execution_count": 47,
   "id": "af53abb6",
   "metadata": {},
   "outputs": [
    {
     "name": "stdout",
     "output_type": "stream",
     "text": [
      "Original list:['Paris', 'New York', 'Miami', 'Switzerland', 'Amsterdam']\n",
      "\n",
      "Sorted:['Amsterdam', 'Miami', 'New York', 'Paris', 'Switzerland']\n",
      "\n",
      "Reversed sorted:['Switzerland', 'Paris', 'New York', 'Miami', 'Amsterdam']\n",
      "\n",
      "Sorted do not affect the original list:['Paris', 'New York', 'Miami', 'Switzerland', 'Amsterdam']\n",
      "\n",
      "Reversed:['Amsterdam', 'Switzerland', 'Miami', 'New York', 'Paris']\n",
      "\n",
      "Reversed Twice:['Paris', 'New York', 'Miami', 'Switzerland', 'Amsterdam']\n",
      "\n",
      "Sort:['Amsterdam', 'Miami', 'New York', 'Paris', 'Switzerland']\n",
      "\n",
      "Reversed Sort:['Switzerland', 'Paris', 'New York', 'Miami', 'Amsterdam']\n",
      "\n",
      "present list:['Switzerland', 'Paris', 'New York', 'Miami', 'Amsterdam']\n",
      "\n"
     ]
    }
   ],
   "source": [
    "sightseeings = ['Paris', 'New York', 'Miami', 'Switzerland', 'Amsterdam']\n",
    "\n",
    "print(\"Original list:\", end=\"\")\n",
    "print(sightseeings, end=\"\\n\\n\")\n",
    "\n",
    "print(\"Sorted:\", end=\"\")\n",
    "print(sorted(sightseeings), end=\"\\n\\n\")\n",
    "\n",
    "print(\"Reversed sorted:\", end=\"\")\n",
    "print(sorted(sightseeings, reverse=True), end=\"\\n\\n\")\n",
    "\n",
    "print(\"Sorted do not affect the original list:\", end=\"\")\n",
    "print(sightseeings, end=\"\\n\\n\")\n",
    "\n",
    "print(\"Reversed:\", end=\"\")\n",
    "sightseeings.reverse()\n",
    "print(sightseeings, end=\"\\n\\n\")\n",
    "\n",
    "print(\"Reversed Twice:\", end=\"\")\n",
    "sightseeings.reverse()\n",
    "print(sightseeings, end=\"\\n\\n\")\n",
    "\n",
    "print(\"Sort:\", end=\"\")\n",
    "sightseeings.sort()\n",
    "print(sightseeings, end=\"\\n\\n\")\n",
    "\n",
    "print(\"Reversed Sort:\", end=\"\")\n",
    "sightseeings.sort(reverse=True)\n",
    "print(sightseeings, end=\"\\n\\n\")\n",
    "\n",
    "print(\"present list:\", end=\"\")\n",
    "print(sightseeings, end=\"\\n\\n\")\n"
   ]
  },
  {
   "cell_type": "markdown",
   "id": "fd76fd3e",
   "metadata": {},
   "source": [
    "3-9, 3-10略"
   ]
  }
 ],
 "metadata": {
  "kernelspec": {
   "display_name": "Python 3 (ipykernel)",
   "language": "python",
   "name": "python3"
  },
  "language_info": {
   "codemirror_mode": {
    "name": "ipython",
    "version": 3
   },
   "file_extension": ".py",
   "mimetype": "text/x-python",
   "name": "python",
   "nbconvert_exporter": "python",
   "pygments_lexer": "ipython3",
   "version": "3.7.11"
  }
 },
 "nbformat": 4,
 "nbformat_minor": 5
}
