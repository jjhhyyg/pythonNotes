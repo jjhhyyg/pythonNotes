{
 "cells": [
  {
   "cell_type": "markdown",
   "metadata": {
    "collapsed": true,
    "pycharm": {
     "name": "#%% md\n"
    }
   },
   "source": [
    "# 文件\n",
    "## 从文件中读取数据"
   ]
  },
  {
   "cell_type": "code",
   "execution_count": 3,
   "outputs": [
    {
     "name": "stdout",
     "output_type": "stream",
     "text": [
      "3.1415926535\n",
      "  8979323846\n",
      "  2643383279\n"
     ]
    }
   ],
   "source": [
    "# 读取整个文件\n",
    "with open('resources/pi_digits.txt') as file_object:\n",
    "    contents = file_object.read()\n",
    "print(contents)"
   ],
   "metadata": {
    "collapsed": false,
    "pycharm": {
     "name": "#%%\n"
    }
   }
  },
  {
   "cell_type": "markdown",
   "source": [
    "`with open`结构相对于`open()...close()`的结构而言，不会存在当程序有bug导致close()未执行的情况，Python会在合适的时候自动将其关闭"
   ],
   "metadata": {
    "collapsed": false,
    "pycharm": {
     "name": "#%% md\n"
    }
   }
  },
  {
   "cell_type": "code",
   "execution_count": 5,
   "outputs": [
    {
     "name": "stdout",
     "output_type": "stream",
     "text": [
      "3.1415926535\n",
      "  8979323846\n",
      "  2643383279\n"
     ]
    }
   ],
   "source": [
    "# 逐行读取\n",
    "file_path = 'resources'\n",
    "file_name = 'pi_digits.txt'\n",
    "with open(file_path + '/' + file_name) as file_object:\n",
    "    for line in file_object:\n",
    "        print(line.rstrip())"
   ],
   "metadata": {
    "collapsed": false,
    "pycharm": {
     "name": "#%%\n"
    }
   }
  },
  {
   "cell_type": "code",
   "execution_count": 7,
   "outputs": [
    {
     "name": "stdout",
     "output_type": "stream",
     "text": [
      "3.1415926535\n",
      "  8979323846\n",
      "  2643383279\n"
     ]
    }
   ],
   "source": [
    "# 创建一个包含文件各行内容的列表\n",
    "file_path = 'resources'\n",
    "file_name = 'pi_digits.txt'\n",
    "with open(file_path + '/' + file_name) as file_object:\n",
    "    lines = file_object.readlines()\n",
    "\n",
    "for line in lines:\n",
    "    print(line.rstrip())"
   ],
   "metadata": {
    "collapsed": false,
    "pycharm": {
     "name": "#%%\n"
    }
   }
  },
  {
   "cell_type": "code",
   "execution_count": 11,
   "outputs": [
    {
     "name": "stdout",
     "output_type": "stream",
     "text": [
      "3.141592653589793238462643383279\n",
      "32\n",
      "3.141592653589793\n",
      "<class 'float'>\n"
     ]
    }
   ],
   "source": [
    "# 使用文件中的内容\n",
    "file_path = 'resources'\n",
    "file_name = 'pi_digits.txt'\n",
    "with open(file_path + '/' + file_name) as file_object:\n",
    "    lines = file_object.readlines()\n",
    "\n",
    "pi_string = ''\n",
    "for line in lines:\n",
    "    pi_string+=line.strip()\n",
    "print(pi_string)\n",
    "print(len(pi_string))\n",
    "# 转换为小数\n",
    "pi_string = float(pi_string)\n",
    "print(pi_string)\n",
    "print(type(pi_string))"
   ],
   "metadata": {
    "collapsed": false,
    "pycharm": {
     "name": "#%%\n"
    }
   }
  },
  {
   "cell_type": "markdown",
   "source": [
    "## 写入文件\n",
    "> 打开文件时，可指定读取模式('r')，写入模式('w')，附加模式('a')或读写模式('r+')，如果省略了模式实参，默认以只读模式打开文件\n",
    "+ 若以写入模式'w'打开文件，如果写入的文件不存在，会自动创建；否则会清空该文件之前的内容\n",
    "+ Python只能将字符串写入文本文件，将数值数据存储到文本文件中时需要先使用str()转换"
   ],
   "metadata": {
    "collapsed": false,
    "pycharm": {
     "name": "#%% md\n"
    }
   }
  },
  {
   "cell_type": "code",
   "execution_count": 12,
   "outputs": [],
   "source": [
    "# 写入空文件\n",
    "file_path = 'resources'\n",
    "file_name = 'programming.txt'\n",
    "with open(file_path + '/' + file_name, 'w') as file_object:\n",
    "    file_object.write(\"I love programming.\")"
   ],
   "metadata": {
    "collapsed": false,
    "pycharm": {
     "name": "#%%\n"
    }
   }
  },
  {
   "cell_type": "code",
   "execution_count": 13,
   "outputs": [],
   "source": [
    "# 写入多行\n",
    "file_path = 'resources'\n",
    "file_name = 'programming.txt'\n",
    "with open(file_path + '/' + file_name, 'w') as file_object:\n",
    "    \"\"\"注意write不会在末尾添加换行符\"\"\"\n",
    "    file_object.write(\"I love programming.\\n\")\n",
    "    file_object.write(\"I love creating new games.\\n\")"
   ],
   "metadata": {
    "collapsed": false,
    "pycharm": {
     "name": "#%%\n"
    }
   }
  },
  {
   "cell_type": "code",
   "execution_count": 14,
   "outputs": [],
   "source": [
    "# 附加到文件\n",
    "file_path = 'resources'\n",
    "file_name = 'programming.txt'\n",
    "with open(file_path + '/' + file_name, 'a') as file_object:\n",
    "    file_object.write(\"I also love finding meaning in large datasets.\\n\")\n",
    "    file_object.write(\"I love creating apps that can run in a browser.\\n\")"
   ],
   "metadata": {
    "collapsed": false,
    "pycharm": {
     "name": "#%%\n"
    }
   }
  },
  {
   "cell_type": "markdown",
   "source": [
    "# 异常\n",
    "## 处理ZeroDivisionError异常"
   ],
   "metadata": {
    "collapsed": false,
    "pycharm": {
     "name": "#%% md\n"
    }
   }
  },
  {
   "cell_type": "code",
   "execution_count": 15,
   "outputs": [
    {
     "name": "stdout",
     "output_type": "stream",
     "text": [
      "You can't divide by zero!\n"
     ]
    }
   ],
   "source": [
    "# try-except代码块\n",
    "try:\n",
    "    print(5/0)\n",
    "except ZeroDivisionError:\n",
    "    print(\"You can't divide by zero!\")"
   ],
   "metadata": {
    "collapsed": false,
    "pycharm": {
     "name": "#%%\n"
    }
   }
  },
  {
   "cell_type": "code",
   "execution_count": 18,
   "outputs": [
    {
     "name": "stdout",
     "output_type": "stream",
     "text": [
      "Give me two numbers, and I'll divide them.\n",
      "Enter 'q' to quit.\n",
      "0.3333333333333333\n",
      "Divide by zero!\n"
     ]
    }
   ],
   "source": [
    "# 异常处理应用——执行除法运算的简单计算器\n",
    "# 在py文件中运行显示效果正常\n",
    "print(\"Give me two numbers, and I'll divide them.\")\n",
    "print(\"Enter 'q' to quit.\")\n",
    "while True:\n",
    "    first_number = input(\"\\nFirst number: \")\n",
    "    if first_number =='q':\n",
    "        break\n",
    "    second_number = input(\"\\nSecond number: \")\n",
    "    if second_number =='q':\n",
    "        break\n",
    "    try:\n",
    "        answer = int(first_number) / int(second_number)\n",
    "    except ZeroDivisionError:\n",
    "        print(\"Divide by zero!\")\n",
    "    else:\n",
    "        print(answer)"
   ],
   "metadata": {
    "collapsed": false,
    "pycharm": {
     "name": "#%%\n"
    }
   }
  },
  {
   "cell_type": "markdown",
   "source": [
    "### 处理FileNotFoundError异常"
   ],
   "metadata": {
    "collapsed": false,
    "pycharm": {
     "name": "#%% md\n"
    }
   }
  },
  {
   "cell_type": "code",
   "execution_count": 19,
   "outputs": [
    {
     "ename": "FileNotFoundError",
     "evalue": "[Errno 2] No such file or directory: 'resources/alice.txt'",
     "output_type": "error",
     "traceback": [
      "\u001B[1;31m---------------------------------------------------------------------------\u001B[0m",
      "\u001B[1;31mFileNotFoundError\u001B[0m                         Traceback (most recent call last)",
      "\u001B[1;32m~\\AppData\\Local\\Temp/ipykernel_32/1873470259.py\u001B[0m in \u001B[0;36m<module>\u001B[1;34m\u001B[0m\n\u001B[0;32m      1\u001B[0m \u001B[0mfile_path\u001B[0m \u001B[1;33m=\u001B[0m \u001B[1;34m'resources'\u001B[0m\u001B[1;33m\u001B[0m\u001B[1;33m\u001B[0m\u001B[0m\n\u001B[0;32m      2\u001B[0m \u001B[0mfile_name\u001B[0m \u001B[1;33m=\u001B[0m \u001B[1;34m'alice.txt'\u001B[0m\u001B[1;33m\u001B[0m\u001B[1;33m\u001B[0m\u001B[0m\n\u001B[1;32m----> 3\u001B[1;33m \u001B[1;32mwith\u001B[0m \u001B[0mopen\u001B[0m\u001B[1;33m(\u001B[0m\u001B[0mfile_path\u001B[0m\u001B[1;33m+\u001B[0m\u001B[1;34m'/'\u001B[0m\u001B[1;33m+\u001B[0m\u001B[0mfile_name\u001B[0m\u001B[1;33m,\u001B[0m \u001B[1;34m'r'\u001B[0m\u001B[1;33m,\u001B[0m \u001B[0mencoding\u001B[0m\u001B[1;33m=\u001B[0m\u001B[1;34m'utf-8'\u001B[0m\u001B[1;33m)\u001B[0m \u001B[1;32mas\u001B[0m \u001B[0mf\u001B[0m\u001B[1;33m:\u001B[0m\u001B[1;33m\u001B[0m\u001B[1;33m\u001B[0m\u001B[0m\n\u001B[0m\u001B[0;32m      4\u001B[0m     \u001B[0mcontents\u001B[0m \u001B[1;33m=\u001B[0m \u001B[0mf\u001B[0m\u001B[1;33m.\u001B[0m\u001B[0mread\u001B[0m\u001B[1;33m(\u001B[0m\u001B[1;33m)\u001B[0m\u001B[1;33m\u001B[0m\u001B[1;33m\u001B[0m\u001B[0m\n",
      "\u001B[1;31mFileNotFoundError\u001B[0m: [Errno 2] No such file or directory: 'resources/alice.txt'"
     ]
    }
   ],
   "source": [
    "# 未加异常处理\n",
    "file_path = 'resources'\n",
    "file_name = 'alice.txt'\n",
    "with open(file_path+'/'+file_name, 'r', encoding='utf-8') as f:\n",
    "    contents = f.read()"
   ],
   "metadata": {
    "collapsed": false,
    "pycharm": {
     "name": "#%%\n"
    }
   }
  },
  {
   "cell_type": "code",
   "execution_count": 20,
   "outputs": [
    {
     "name": "stdout",
     "output_type": "stream",
     "text": [
      "Sorry, the file alice.txt does not exist.\n"
     ]
    }
   ],
   "source": [
    "# 加了异常处理\n",
    "file_path = 'resources'\n",
    "file_name = 'alice.txt'\n",
    "try:\n",
    "    with open(file_path+'/'+file_name, 'r', encoding='utf-8') as f:\n",
    "        contents = f.read()\n",
    "except FileNotFoundError:\n",
    "    print(f\"Sorry, the file {file_name} does not exist.\")\n",
    "else:\n",
    "    print(f\"File {file_name} opened successfully!\")"
   ],
   "metadata": {
    "collapsed": false,
    "pycharm": {
     "name": "#%%\n"
    }
   }
  },
  {
   "cell_type": "markdown",
   "source": [
    "## 存储数据 —— json\n",
    "### json.dump\n",
    "> json.dump接受两个实参：要存储的数据，以及可用于存储数据的文件对象"
   ],
   "metadata": {
    "collapsed": false
   }
  },
  {
   "cell_type": "code",
   "execution_count": 21,
   "outputs": [],
   "source": [
    "# 存储数字列表\n",
    "import json\n",
    "\n",
    "numbers = [2,3,5,7,11,13]\n",
    "file_path = \"resources\"\n",
    "file_name = \"numbers.json\"\n",
    "with open(file_path+'/'+file_name,'w') as f:\n",
    "    json.dump(numbers, f)"
   ],
   "metadata": {
    "collapsed": false,
    "pycharm": {
     "name": "#%%\n"
    }
   }
  },
  {
   "cell_type": "markdown",
   "source": [
    "### json.load\n",
    "> 将列表读取到内存中"
   ],
   "metadata": {
    "collapsed": false,
    "pycharm": {
     "name": "#%% md\n"
    }
   }
  },
  {
   "cell_type": "code",
   "execution_count": 22,
   "outputs": [
    {
     "name": "stdout",
     "output_type": "stream",
     "text": [
      "[2, 3, 5, 7, 11, 13]\n"
     ]
    }
   ],
   "source": [
    "import json\n",
    "\n",
    "file_path = \"resources\"\n",
    "file_name = \"numbers.json\"\n",
    "with open(file_path+'/'+file_name,'r') as f:\n",
    "    numbers = json.load(f)\n",
    "\n",
    "print(numbers)"
   ],
   "metadata": {
    "collapsed": false,
    "pycharm": {
     "name": "#%%\n"
    }
   }
  },
  {
   "cell_type": "code",
   "execution_count": 25,
   "outputs": [
    {
     "name": "stdout",
     "output_type": "stream",
     "text": [
      "Welcome back, Eric\n"
     ]
    }
   ],
   "source": [
    "# dump和load的综合应用\n",
    "import json\n",
    "\n",
    "file_path = \"resources\"\n",
    "file_name = \"username.json\"\n",
    "\n",
    "try:\n",
    "    with open(file_path+'/'+file_name,'r') as f:\n",
    "        username = json.load(f)\n",
    "except FileNotFoundError:\n",
    "    username = input(\"What's your name? \")\n",
    "    with open(file_path+'/'+file_name,'w') as f:\n",
    "        json.dump(username,f)\n",
    "        print(f\"We'll remember you when you come back, {username}!\")\n",
    "else:\n",
    "    print(f\"Welcome back, {username}\")"
   ],
   "metadata": {
    "collapsed": false,
    "pycharm": {
     "name": "#%%\n"
    }
   }
  },
  {
   "cell_type": "code",
   "execution_count": null,
   "outputs": [],
   "source": [],
   "metadata": {
    "collapsed": false,
    "pycharm": {
     "name": "#%%\n"
    }
   }
  }
 ],
 "metadata": {
  "kernelspec": {
   "display_name": "Python 3",
   "language": "python",
   "name": "python3"
  },
  "language_info": {
   "codemirror_mode": {
    "name": "ipython",
    "version": 2
   },
   "file_extension": ".py",
   "mimetype": "text/x-python",
   "name": "python",
   "nbconvert_exporter": "python",
   "pygments_lexer": "ipython2",
   "version": "2.7.6"
  }
 },
 "nbformat": 4,
 "nbformat_minor": 0
}