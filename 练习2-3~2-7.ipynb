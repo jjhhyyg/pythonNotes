{
 "cells": [
  {
   "cell_type": "markdown",
   "id": "e13faaa0",
   "metadata": {},
   "source": [
    "#### 2-3 个性化信息"
   ]
  },
  {
   "cell_type": "code",
   "execution_count": 2,
   "id": "1ffeb800",
   "metadata": {},
   "outputs": [
    {
     "name": "stdout",
     "output_type": "stream",
     "text": [
      "input your name:Eric\n",
      "Hello Eric, would you like to learn some Python today?\n",
      "Hello Eric, would you like to learn some Python today?\n"
     ]
    }
   ],
   "source": [
    "name = input(\"input your name:\")\n",
    "print(f\"Hello {name}, would you like to learn some Python today?\") #>=Python3.6\n",
    "print(\"Hello {}, would you like to learn some Python today?\".format(name)) # <Python3.6"
   ]
  },
  {
   "cell_type": "markdown",
   "id": "5d00f54e",
   "metadata": {},
   "source": [
    "#### 2-4 调整名字大小写"
   ]
  },
  {
   "cell_type": "code",
   "execution_count": 8,
   "id": "7dd688da",
   "metadata": {},
   "outputs": [
    {
     "name": "stdout",
     "output_type": "stream",
     "text": [
      "input your name:eriksson hou\n",
      "eriksson hou\n",
      "ERIKSSON HOU\n",
      "Eriksson Hou\n"
     ]
    }
   ],
   "source": [
    "name = input(\"input your name:\")\n",
    "\n",
    "print(name.lower())\n",
    "print(name.upper())\n",
    "print(name.title())"
   ]
  },
  {
   "cell_type": "markdown",
   "id": "6bf61e63",
   "metadata": {},
   "source": [
    "#### 2-5, 2-6 名人名言"
   ]
  },
  {
   "cell_type": "code",
   "execution_count": 12,
   "id": "e66f1a6e",
   "metadata": {
    "scrolled": true
   },
   "outputs": [
    {
     "name": "stdout",
     "output_type": "stream",
     "text": [
      "列夫·托尔斯泰曾说过：今天就是生命，是唯一你能确知的生命。\n"
     ]
    }
   ],
   "source": [
    "name = \"列夫·托尔斯泰\"\n",
    "str = \"今天就是生命，是唯一你能确知的生命。\"\n",
    "print(f\"{name}曾说过：{str}\")"
   ]
  },
  {
   "cell_type": "markdown",
   "id": "9e5a1380",
   "metadata": {},
   "source": [
    "#### 2-7 剔除人名的空白  \n",
    "  \n",
    "  可以发现，去除的不仅空格，还有换行符、tab、回车换行符等"
   ]
  },
  {
   "cell_type": "code",
   "execution_count": 20,
   "id": "350646d5",
   "metadata": {},
   "outputs": [
    {
     "name": "stdout",
     "output_type": "stream",
     "text": [
      "\r",
      "\t\n",
      " Eirksson\tHou\n",
      " \n",
      "\t\n",
      "去掉开头空格\n",
      "Eirksson\tHou\n",
      " \n",
      "\t\n",
      "去掉结尾空格\n",
      "\r",
      "\t\n",
      " Eirksson\tHou\n",
      "去掉前后空格\n",
      "Eirksson\tHou\n"
     ]
    }
   ],
   "source": [
    "name = \"\\r\\t\\n Eirksson\\tHou\\n \\n\\t\"\n",
    "print(name)\n",
    "\n",
    "print(\"去掉开头空格\")\n",
    "print(name.lstrip())\n",
    "print(\"去掉结尾空格\")\n",
    "print(name.rstrip())\n",
    "print(\"去掉前后空格\")\n",
    "print(name.strip())"
   ]
  }
 ],
 "metadata": {
  "kernelspec": {
   "display_name": "Python 3 (ipykernel)",
   "language": "python",
   "name": "python3"
  },
  "language_info": {
   "codemirror_mode": {
    "name": "ipython",
    "version": 3
   },
   "file_extension": ".py",
   "mimetype": "text/x-python",
   "name": "python",
   "nbconvert_exporter": "python",
   "pygments_lexer": "ipython3",
   "version": "3.7.11"
  }
 },
 "nbformat": 4,
 "nbformat_minor": 5
}
