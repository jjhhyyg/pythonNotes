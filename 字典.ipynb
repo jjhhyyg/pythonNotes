{
 "cells": [
  {
   "cell_type": "markdown",
   "id": "0a59d328",
   "metadata": {},
   "source": [
    "# 字典"
   ]
  },
  {
   "cell_type": "markdown",
   "id": "cc6b1db4",
   "metadata": {},
   "source": [
    "字典是一系列的**键值对**，与键值相关联的值可以是**数、字符串、列表甚至字典**，可以将**任何对象**用作字典中的值"
   ]
  },
  {
   "cell_type": "code",
   "execution_count": 10,
   "id": "d40b10b1",
   "metadata": {},
   "outputs": [
    {
     "name": "stdout",
     "output_type": "stream",
     "text": [
      "Eric 13 green 2\n"
     ]
    }
   ],
   "source": [
    "# 基本使用\n",
    "alien = {'name':'Eric', 'age':13, 'color':'green'}\n",
    "print(alien['name'], alien['age'], alien['color'])"
   ]
  },
  {
   "cell_type": "markdown",
   "id": "da3f52ba",
   "metadata": {},
   "source": [
    "#### 添加键值对"
   ]
  },
  {
   "cell_type": "code",
   "execution_count": 15,
   "id": "6fc4a997",
   "metadata": {},
   "outputs": [
    {
     "name": "stdout",
     "output_type": "stream",
     "text": [
      "{'color': 'green', 'points': 5, 'x_position': 0, 'y_position': 25}\n",
      "{'color': 'green', 'points': 5, 'x_position': 10, 'y_position': 25}\n"
     ]
    }
   ],
   "source": [
    "alien = {'color':'green', 'points':5}\n",
    "alien['x_position'] = 0\n",
    "alien['y_position'] = 25\n",
    "print(alien)\n",
    "\n",
    "# 修改字典中的值\n",
    "alien['x_position'] = 10\n",
    "print(alien)"
   ]
  },
  {
   "cell_type": "markdown",
   "id": "8b402c2b",
   "metadata": {},
   "source": [
    "#### 删除键值对"
   ]
  },
  {
   "cell_type": "code",
   "execution_count": 16,
   "id": "196a41f3",
   "metadata": {},
   "outputs": [
    {
     "name": "stdout",
     "output_type": "stream",
     "text": [
      "{'color': 'green', 'points': 5}\n",
      "{'points': 5}\n"
     ]
    }
   ],
   "source": [
    "alien = {'color':'green', 'points':5}\n",
    "print(alien)\n",
    "del alien['color']\n",
    "print(alien)"
   ]
  },
  {
   "cell_type": "markdown",
   "id": "5ebc34e6",
   "metadata": {},
   "source": [
    "<font color=\"blue\" size=5>怎么在访问不存在的键时打印提示信息？</font>  \n",
    "get()方法"
   ]
  },
  {
   "cell_type": "code",
   "execution_count": 21,
   "id": "42008dec",
   "metadata": {},
   "outputs": [
    {
     "name": "stdout",
     "output_type": "stream",
     "text": [
      "No speed value assigned!\n",
      "slow\n",
      "None\n"
     ]
    }
   ],
   "source": [
    "alien = {'color':'green', 'points':5}\n",
    "speed_val = alien.get('speed', 'No speed value assigned!')\n",
    "print(speed_val)\n",
    "alien['speed'] = 'slow'\n",
    "speed_val = alien.get('speed', 'No speed value assigned!')\n",
    "print(speed_val)\n",
    "# 不指定get()的第二个参数的话，找不到则返回None\n",
    "del alien['speed']\n",
    "speed_val = alien.get('speed')\n",
    "print(speed_val)"
   ]
  },
  {
   "cell_type": "markdown",
   "id": "fbae29ae",
   "metadata": {},
   "source": [
    "### 遍历字典"
   ]
  },
  {
   "cell_type": "code",
   "execution_count": 27,
   "id": "69b25130",
   "metadata": {},
   "outputs": [
    {
     "name": "stdout",
     "output_type": "stream",
     "text": [
      "username:Rookie\n",
      "first:enrico\n",
      "last:fermi\n",
      "<class 'dict_items'>\n",
      "dict_items([('username', 'Rookie'), ('first', 'enrico'), ('last', 'fermi')])\n"
     ]
    }
   ],
   "source": [
    "# 遍历所有键值对，用字典对象的方法items()\n",
    "user0 = {\n",
    "    'username': 'Rookie',\n",
    "    'first': 'enrico',\n",
    "    'last': 'fermi'\n",
    "}\n",
    "for key, value in user0.items():\n",
    "    print(key + ':' + value)\n",
    "\n",
    "print(type(user0.items()))\n",
    "print(user0.items())"
   ]
  },
  {
   "cell_type": "code",
   "execution_count": 3,
   "id": "1372821d",
   "metadata": {},
   "outputs": [
    {
     "name": "stdout",
     "output_type": "stream",
     "text": [
      "username\n",
      "first\n",
      "last\n",
      "<class 'dict_keys'>\n",
      "dict_keys(['username', 'first', 'last'])\n"
     ]
    }
   ],
   "source": [
    "# 遍历所有的键，用字典对象方法keys()\n",
    "user0 = {\n",
    "    'username': 'Rookie',\n",
    "    'first': 'enrico',\n",
    "    'last': 'fermi'\n",
    "}\n",
    "for key in user0.keys():\n",
    "    print(key)\n",
    "    \n",
    "print(type(user0.keys()))\n",
    "print(user0.keys())"
   ]
  },
  {
   "cell_type": "code",
   "execution_count": 5,
   "id": "72b88698",
   "metadata": {},
   "outputs": [
    {
     "name": "stdout",
     "output_type": "stream",
     "text": [
      "Rookie\n",
      "enrico\n",
      "fermi\n",
      "<class 'dict_values'>\n",
      "dict_values(['Rookie', 'enrico', 'fermi'])\n"
     ]
    }
   ],
   "source": [
    "# 遍历所有的值，用字典对象方法values\n",
    "user0 = {\n",
    "    'username': 'Rookie',\n",
    "    'first': 'enrico',\n",
    "    'last': 'fermi'\n",
    "}\n",
    "for value in user0.values():\n",
    "    print(value)\n",
    "    \n",
    "print(type(user0.values()))\n",
    "print(user0.values())"
   ]
  },
  {
   "cell_type": "markdown",
   "id": "c6bce595",
   "metadata": {},
   "source": [
    "### 嵌套  \n",
    "#### 列表中存字典"
   ]
  },
  {
   "cell_type": "code",
   "execution_count": 6,
   "id": "cbe113d7",
   "metadata": {},
   "outputs": [
    {
     "name": "stdout",
     "output_type": "stream",
     "text": [
      "{'color': 'green', 'points': 5, 'speed': 'slow'}\n",
      "{'color': 'green', 'points': 5, 'speed': 'slow'}\n",
      "{'color': 'green', 'points': 5, 'speed': 'slow'}\n",
      "{'color': 'green', 'points': 5, 'speed': 'slow'}\n",
      "{'color': 'green', 'points': 5, 'speed': 'slow'}\n",
      "{'color': 'green', 'points': 5, 'speed': 'slow'}\n",
      "{'color': 'green', 'points': 5, 'speed': 'slow'}\n",
      "{'color': 'green', 'points': 5, 'speed': 'slow'}\n",
      "{'color': 'green', 'points': 5, 'speed': 'slow'}\n",
      "{'color': 'green', 'points': 5, 'speed': 'slow'}\n"
     ]
    }
   ],
   "source": [
    "aliens = []\n",
    "for alien_number in range(10):\n",
    "    new_alien = {'color':'green', 'points':5, 'speed':'slow'}\n",
    "    aliens.append(new_alien)\n",
    "\n",
    "for alien in aliens:\n",
    "    print(alien)"
   ]
  },
  {
   "cell_type": "markdown",
   "id": "e085c4df",
   "metadata": {},
   "source": [
    "#### 字典中存列表"
   ]
  },
  {
   "cell_type": "code",
   "execution_count": 8,
   "id": "b504dfc3",
   "metadata": {},
   "outputs": [
    {
     "name": "stdout",
     "output_type": "stream",
     "text": [
      "you've ordered a pizza['crust']-crust pizza, with the following toppings:\n",
      "\tmushrooms\n",
      "\textra cheese\n"
     ]
    }
   ],
   "source": [
    "pizza = {\n",
    "    'crust': 'thick',\n",
    "    'toppings': ['mushrooms', 'extra cheese']\n",
    "}\n",
    "\n",
    "print(f\"you've ordered a pizza['crust']-crust pizza, with the following toppings:\")\n",
    "\n",
    "for topping in pizza['toppings']:\n",
    "    print('\\t'+topping)"
   ]
  },
  {
   "cell_type": "markdown",
   "id": "8601baf2",
   "metadata": {},
   "source": [
    "#### 字典中存字典"
   ]
  },
  {
   "cell_type": "code",
   "execution_count": 11,
   "id": "718bbd79",
   "metadata": {},
   "outputs": [
    {
     "name": "stdout",
     "output_type": "stream",
     "text": [
      "\n",
      "Username:aeinstein\n",
      "\tFull name: Albert Aeinstein\n",
      "\tlocation: Princeton\n",
      "\n",
      "Username:mcurie\n",
      "\tFull name: Marie Curie\n",
      "\tlocation: Paris\n"
     ]
    }
   ],
   "source": [
    "users = {\n",
    "    'aeinstein':{\n",
    "        'first': 'albert',\n",
    "        'last':'aeinstein',\n",
    "        'location':'princeton'\n",
    "    },\n",
    "    'mcurie':{\n",
    "        'first': 'marie',\n",
    "        'last':'curie',\n",
    "        'location':'paris'\n",
    "    }\n",
    "}\n",
    "\n",
    "for username, userinfo in users.items():\n",
    "    print(f\"\\nUsername:{username}\")\n",
    "    fullname = f\"{userinfo['first']} {userinfo['last']}\"\n",
    "    location = userinfo['location']\n",
    "    \n",
    "    print(f\"\\tFull name: {fullname.title()}\")\n",
    "    print(f\"\\tlocation: {location.title()}\")"
   ]
  },
  {
   "cell_type": "code",
   "execution_count": null,
   "id": "064e12d3",
   "metadata": {},
   "outputs": [],
   "source": []
  }
 ],
 "metadata": {
  "kernelspec": {
   "display_name": "Python 3 (ipykernel)",
   "language": "python",
   "name": "python3"
  },
  "language_info": {
   "codemirror_mode": {
    "name": "ipython",
    "version": 3
   },
   "file_extension": ".py",
   "mimetype": "text/x-python",
   "name": "python",
   "nbconvert_exporter": "python",
   "pygments_lexer": "ipython3",
   "version": "3.7.11"
  }
 },
 "nbformat": 4,
 "nbformat_minor": 5
}
