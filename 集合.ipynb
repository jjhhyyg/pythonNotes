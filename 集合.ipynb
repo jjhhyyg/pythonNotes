{
 "cells": [
  {
   "cell_type": "markdown",
   "id": "875c9daa",
   "metadata": {},
   "source": [
    "### 集合  \n",
    "> 不含重复元素  \n",
    "> 无序"
   ]
  },
  {
   "cell_type": "code",
   "execution_count": 1,
   "id": "b53f5049",
   "metadata": {},
   "outputs": [
    {
     "name": "stdout",
     "output_type": "stream",
     "text": [
      "{'Erish', 'Chinese', 'Japanese', 'English'}\n"
     ]
    }
   ],
   "source": [
    "# 集合定义, 注意集合是无序的\n",
    "languages = {'Chinese', 'English', 'Erish', 'Japanese'}\n",
    "print(languages)"
   ]
  },
  {
   "cell_type": "code",
   "execution_count": 3,
   "id": "3ae4224a",
   "metadata": {},
   "outputs": [
    {
     "name": "stdout",
     "output_type": "stream",
     "text": [
      "{'Erish', 'Chinese', 'Japanese', 'English'}\n"
     ]
    }
   ],
   "source": [
    "# 从列表获得集合, set()函数\n",
    "languages_list = ['Chinese', 'English', 'Erish', 'Japanese', 'English', 'Japanese']\n",
    "languages = set(languages_list)\n",
    "print(languages)"
   ]
  },
  {
   "cell_type": "code",
   "execution_count": null,
   "id": "3446049d",
   "metadata": {},
   "outputs": [],
   "source": []
  }
 ],
 "metadata": {
  "kernelspec": {
   "display_name": "Python 3 (ipykernel)",
   "language": "python",
   "name": "python3"
  },
  "language_info": {
   "codemirror_mode": {
    "name": "ipython",
    "version": 3
   },
   "file_extension": ".py",
   "mimetype": "text/x-python",
   "name": "python",
   "nbconvert_exporter": "python",
   "pygments_lexer": "ipython3",
   "version": "3.7.11"
  }
 },
 "nbformat": 4,
 "nbformat_minor": 5
}
