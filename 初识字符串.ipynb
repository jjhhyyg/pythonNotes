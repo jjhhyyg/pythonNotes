{
 "cells": [
  {
   "cell_type": "code",
   "execution_count": 2,
   "id": "1d76a803",
   "metadata": {},
   "outputs": [
    {
     "name": "stdout",
     "output_type": "stream",
     "text": [
      "Eriksson Hou\n"
     ]
    }
   ],
   "source": [
    "# name.title()会将每个单词的首字母大写，其他字母小写！\n",
    "\n",
    "name = \"eriksson hou\"\n",
    "print(name.title())"
   ]
  },
  {
   "cell_type": "code",
   "execution_count": 3,
   "id": "74dbd581",
   "metadata": {},
   "outputs": [
    {
     "name": "stdout",
     "output_type": "stream",
     "text": [
      "ERIKSSON HOU\n",
      "eriksson hou\n"
     ]
    }
   ],
   "source": [
    "# name.upper(), name.lower() 全转为大写/小写\n",
    "\n",
    "print(name.upper())\n",
    "print(name.lower())"
   ]
  },
  {
   "cell_type": "code",
   "execution_count": 4,
   "id": "feea0081",
   "metadata": {},
   "outputs": [
    {
     "name": "stdout",
     "output_type": "stream",
     "text": [
      "1A 2B 3 C4D\n",
      "1A 2B 3 C4D\n",
      "1a 2b 3 c4d\n"
     ]
    }
   ],
   "source": [
    "# name里有数字呢？\n",
    "\n",
    "name = \"1a 2B 3 c4D\"\n",
    "print(name.title())\n",
    "print(name.upper())\n",
    "print(name.lower())"
   ]
  },
  {
   "cell_type": "code",
   "execution_count": 7,
   "id": "11297026",
   "metadata": {},
   "outputs": [
    {
     "name": "stdout",
     "output_type": "stream",
     "text": [
      "Erikssonhou\n",
      "Eriksson Hou\n"
     ]
    }
   ],
   "source": [
    "# 在字符串中使用变量，用f只会单独地拼接起来\n",
    "\n",
    "first_name = \"Eriksson\"\n",
    "last_name = \"Hou\"\n",
    "full_name = f\"{first_name}{last_name}\"\n",
    "print(full_name.title())\n",
    "\n",
    "# 加个空格\n",
    "full_name = f\"{first_name} {last_name}\"\n",
    "print(full_name.title())"
   ]
  },
  {
   "cell_type": "markdown",
   "id": "28f579fd",
   "metadata": {},
   "source": [
    "#### f版本  \n",
    "在Python3.6之前的版本需要用format()，见下例子"
   ]
  },
  {
   "cell_type": "code",
   "execution_count": 9,
   "id": "dcc6b260",
   "metadata": {},
   "outputs": [
    {
     "name": "stdout",
     "output_type": "stream",
     "text": [
      "Eriksson Hou\n"
     ]
    }
   ],
   "source": [
    "first_name = \"Eriksson\"\n",
    "last_name = \"Hou\"\n",
    "full_name = \"{} {}\".format(first_name, last_name)\n",
    "print(full_name.title())"
   ]
  },
  {
   "cell_type": "code",
   "execution_count": 23,
   "id": "57b454d9",
   "metadata": {
    "scrolled": true
   },
   "outputs": [
    {
     "name": "stdout",
     "output_type": "stream",
     "text": [
      " python \n",
      "python \n",
      " python\n",
      "python\n",
      " python \n",
      "python\n"
     ]
    }
   ],
   "source": [
    "# 删除字符串里的开头和末尾的空格，注意看输出的空格\n",
    "str = ' python '\n",
    "print(str)\n",
    "\n",
    "# 删除开头的\n",
    "print(str.lstrip())\n",
    "# 删除末尾的\n",
    "print(str.rstrip())\n",
    "# 删除两端的\n",
    "print(str.strip())\n",
    "\n",
    "# 赋值\n",
    "print(str)\n",
    "str = str.strip()\n",
    "print(str)"
   ]
  },
  {
   "cell_type": "markdown",
   "id": "33d00e54",
   "metadata": {},
   "source": [
    "更多相关见[菜鸟教程](https://www.runoob.com/python/python-strings.html)"
   ]
  }
 ],
 "metadata": {
  "kernelspec": {
   "display_name": "Python 3 (ipykernel)",
   "language": "python",
   "name": "python3"
  },
  "language_info": {
   "codemirror_mode": {
    "name": "ipython",
    "version": 3
   },
   "file_extension": ".py",
   "mimetype": "text/x-python",
   "name": "python",
   "nbconvert_exporter": "python",
   "pygments_lexer": "ipython3",
   "version": "3.7.11"
  }
 },
 "nbformat": 4,
 "nbformat_minor": 5
}
