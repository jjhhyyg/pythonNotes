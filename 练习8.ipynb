{
 "cells": [
  {
   "cell_type": "code",
   "execution_count": 2,
   "metadata": {
    "collapsed": true
   },
   "outputs": [
    {
     "name": "stdout",
     "output_type": "stream",
     "text": [
      "This t-shirt's size is 4 and its logo is rain\n"
     ]
    }
   ],
   "source": [
    "# 8-3 T恤\n",
    "def make_shirt(size, logo):\n",
    "    print(f\"This t-shirt's size is {size} and its logo is {logo}\")\n",
    "\n",
    "\n",
    "make_shirt(4, \"rain\")"
   ]
  },
  {
   "cell_type": "code",
   "execution_count": 4,
   "outputs": [
    {
     "name": "stdout",
     "output_type": "stream",
     "text": [
      "This t-shirt's size is small and its logo is \"I love Python!\"\n",
      "This t-shirt's size is mid and its logo is \"I love Python!\"\n",
      "This t-shirt's size is mid and its logo is \"I love Java!\"\n"
     ]
    }
   ],
   "source": [
    "# 8-4 大号T恤\n",
    "def make_shirt(size, logo=\"I love Python!\"):\n",
    "    print(f\"This t-shirt's size is {size} and its logo is \\\"{logo}\\\"\")\n",
    "\n",
    "\n",
    "make_shirt(\"small\")\n",
    "make_shirt(\"mid\")\n",
    "make_shirt(\"mid\", \"I love Java!\")"
   ],
   "metadata": {
    "collapsed": false,
    "pycharm": {
     "name": "#%%\n"
    }
   }
  },
  {
   "cell_type": "code",
   "execution_count": 6,
   "outputs": [
    {
     "name": "stdout",
     "output_type": "stream",
     "text": [
      "Zhaotong is in China.\n",
      "Chongqing is in China.\n",
      "Los Angeles is in USA.\n"
     ]
    }
   ],
   "source": [
    "# 8-5 城市\n",
    "def describe_city(name, country=\"China\"):\n",
    "    print(f\"{name} is in {country}.\")\n",
    "\n",
    "\n",
    "describe_city('Zhaotong')\n",
    "describe_city('Chongqing')\n",
    "describe_city('Los Angeles', 'USA')"
   ],
   "metadata": {
    "collapsed": false,
    "pycharm": {
     "name": "#%%\n"
    }
   }
  },
  {
   "cell_type": "code",
   "execution_count": 4,
   "outputs": [
    {
     "name": "stdout",
     "output_type": "stream",
     "text": [
      "Shanghai, China\n",
      "Moscow, Russia\n",
      "New York, America\n"
     ]
    }
   ],
   "source": [
    "# 8-6 城市名\n",
    "def city_country(name, country):\n",
    "    return f\"{name}, {country}\"\n",
    "\n",
    "\n",
    "print(city_country('Shanghai', 'China'))\n",
    "print(city_country('Moscow', 'Russia'))\n",
    "print(city_country('New York', 'America'))"
   ],
   "metadata": {
    "collapsed": false,
    "pycharm": {
     "name": "#%%\n"
    }
   }
  },
  {
   "cell_type": "code",
   "execution_count": 8,
   "outputs": [
    {
     "name": "stdout",
     "output_type": "stream",
     "text": [
      "{'singer': 'Linkin Park', 'album': 'One More Light', 'songs': 10}\n",
      "{'singer': '王以太', 'album': '演说家'}\n",
      "{'singer': '周杰伦', 'album': '以父之名'}\n"
     ]
    }
   ],
   "source": [
    "# 8-7 专辑\n",
    "def make_album(singer_name, album_name, songs_number=None):\n",
    "    temp_album = {\n",
    "        'singer': singer_name,\n",
    "        'album': album_name\n",
    "    }\n",
    "    if songs_number:\n",
    "        temp_album['songs'] = songs_number\n",
    "    return temp_album\n",
    "\n",
    "\n",
    "albums = []\n",
    "\n",
    "album01 = make_album('Linkin Park', 'One More Light', 10)\n",
    "album02 = make_album('王以太', '演说家')\n",
    "album03 = make_album('周杰伦', '以父之名')\n",
    "\n",
    "albums.append(album01)\n",
    "albums.append(album02)\n",
    "albums.append(album03)\n",
    "\n",
    "for album in albums:\n",
    "    print(album)"
   ],
   "metadata": {
    "collapsed": false,
    "pycharm": {
     "name": "#%%\n"
    }
   }
  },
  {
   "cell_type": "code",
   "execution_count": 1,
   "outputs": [],
   "source": [
    "# 8-8 用户的专辑 略"
   ],
   "metadata": {
    "collapsed": false,
    "pycharm": {
     "name": "#%%\n"
    }
   }
  },
  {
   "cell_type": "code",
   "execution_count": 2,
   "outputs": [
    {
     "name": "stdout",
     "output_type": "stream",
     "text": [
      "1\n",
      "2\n",
      "3\n"
     ]
    }
   ],
   "source": [
    "# 8-9 消息\n",
    "def show_message(messages):\n",
    "    for message in messages:\n",
    "        print(message)\n",
    "\n",
    "\n",
    "messages = ['1', '2', '3']\n",
    "show_message(messages)"
   ],
   "metadata": {
    "collapsed": false,
    "pycharm": {
     "name": "#%%\n"
    }
   }
  },
  {
   "cell_type": "code",
   "execution_count": 5,
   "outputs": [
    {
     "name": "stdout",
     "output_type": "stream",
     "text": [
      "[]\n",
      "['3', '2', '1']\n"
     ]
    }
   ],
   "source": [
    "# 8-10 发送消息\n",
    "def send_message(messages, sent_messages):\n",
    "    while messages:\n",
    "        tmp_msg = messages.pop()\n",
    "        sent_messages.append(tmp_msg)\n",
    "\n",
    "messages = ['1', '2', '3']\n",
    "sent_messages = []\n",
    "send_message(messages,sent_messages)\n",
    "print(messages)\n",
    "print(sent_messages)"
   ],
   "metadata": {
    "collapsed": false,
    "pycharm": {
     "name": "#%%\n"
    }
   }
  },
  {
   "cell_type": "code",
   "execution_count": 6,
   "outputs": [
    {
     "name": "stdout",
     "output_type": "stream",
     "text": [
      "['1', '2', '3']\n",
      "['3', '2', '1']\n"
     ]
    }
   ],
   "source": [
    "# 8-11 消息归档\n",
    "def send_message(messages, sent_messages):\n",
    "    while messages:\n",
    "        tmp_msg = messages.pop()\n",
    "        sent_messages.append(tmp_msg)\n",
    "\n",
    "messages = ['1', '2', '3']\n",
    "sent_messages = []\n",
    "send_message(messages[:],sent_messages)\n",
    "print(messages)\n",
    "print(sent_messages)"
   ],
   "metadata": {
    "collapsed": false,
    "pycharm": {
     "name": "#%%\n"
    }
   }
  },
  {
   "cell_type": "code",
   "execution_count": null,
   "outputs": [],
   "source": [],
   "metadata": {
    "collapsed": false,
    "pycharm": {
     "name": "#%%\n"
    }
   }
  }
 ],
 "metadata": {
  "kernelspec": {
   "display_name": "Python 3",
   "language": "python",
   "name": "python3"
  },
  "language_info": {
   "codemirror_mode": {
    "name": "ipython",
    "version": 2
   },
   "file_extension": ".py",
   "mimetype": "text/x-python",
   "name": "python",
   "nbconvert_exporter": "python",
   "pygments_lexer": "ipython2",
   "version": "2.7.6"
  }
 },
 "nbformat": 4,
 "nbformat_minor": 0
}