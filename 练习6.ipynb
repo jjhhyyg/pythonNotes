{
 "cells": [
  {
   "cell_type": "code",
   "execution_count": 2,
   "id": "9e075fa7",
   "metadata": {},
   "outputs": [
    {
     "name": "stdout",
     "output_type": "stream",
     "text": [
      "雨\n",
      "车\n",
      "18\n",
      "ZhangTong\n"
     ]
    }
   ],
   "source": [
    "# 6-1 人\n",
    "person = {'first_name': '雨', 'last_name': '车', 'age': 18, 'city': 'ZhangTong'}\n",
    "for i in person:\n",
    "    print(person[i])"
   ]
  },
  {
   "cell_type": "code",
   "execution_count": 3,
   "id": "670ca70f",
   "metadata": {},
   "outputs": [
    {
     "name": "stdout",
     "output_type": "stream",
     "text": [
      "eric's favorite number is 1\n",
      "john's favorite number is 3\n",
      "pitbull's favorite number is 11\n"
     ]
    }
   ],
   "source": [
    "# 6-2 喜欢的数\n",
    "favorite_number = {\n",
    "    'eric': 1,\n",
    "    'john': 3,\n",
    "    'pitbull': 11\n",
    "}\n",
    "for name in favorite_number:\n",
    "    print(name + \"'s favorite number is \" + str(favorite_number[name]))"
   ]
  },
  {
   "cell_type": "code",
   "execution_count": 5,
   "id": "90bb5385",
   "metadata": {},
   "outputs": [
    {
     "name": "stdout",
     "output_type": "stream",
     "text": [
      "ls\t:print all files in current folder\n",
      "mkdir\t:create a new folder\n",
      "chmod\t:change file's priviledge\n",
      "cd\t:change current position to another\n",
      "rm\t:delete files\n"
     ]
    }
   ],
   "source": [
    "# 6-3 词汇表\n",
    "commandsDict = {\n",
    "    'ls': 'print all files in current folder',\n",
    "    'mkdir': 'create a new folder',\n",
    "    'chmod': 'change file\\'s priviledge',\n",
    "    'cd': 'change current position to another',\n",
    "    'rm': 'delete files'\n",
    "}\n",
    "\n",
    "for command in commandsDict:\n",
    "    print(command + '\\t:' + commandsDict[command])"
   ]
  },
  {
   "cell_type": "code",
   "execution_count": 1,
   "id": "db0f2b4a",
   "metadata": {},
   "outputs": [
    {
     "name": "stdout",
     "output_type": "stream",
     "text": [
      "ls\t:print all files in current folder\n",
      "mkdir\t:create a new folder\n",
      "chmod\t:change file's priviledge\n",
      "cd\t:change current position to another\n",
      "rm\t:delete files\n"
     ]
    }
   ],
   "source": [
    "# 6-4 词汇表2\n",
    "commandsDict = {\n",
    "    'ls': 'print all files in current folder',\n",
    "    'mkdir': 'create a new folder',\n",
    "    'chmod': 'change file\\'s priviledge',\n",
    "    'cd': 'change current position to another',\n",
    "    'rm': 'delete files'\n",
    "}\n",
    "\n",
    "for key, value in commandsDict.items():\n",
    "    print(key + '\\t:' + value)"
   ]
  },
  {
   "cell_type": "code",
   "execution_count": 4,
   "id": "088b4171",
   "metadata": {},
   "outputs": [
    {
     "name": "stdout",
     "output_type": "stream",
     "text": [
      "The Nile runs through Egypt.\n",
      "The Yangtze runs through China.\n",
      "The Yenisei runs through Russia.\n",
      "The rivers are:\n",
      "Nile\n",
      "Yangtze\n",
      "Yenisei\n",
      "The countries are:\n",
      "Egypt\n",
      "China\n",
      "Russia\n"
     ]
    }
   ],
   "source": [
    "# 6-5 河流\n",
    "rivers = {'Nile':'Egypt', 'Yangtze':'China', 'Yenisei':'Russia'}\n",
    "for river, country in rivers.items():\n",
    "    print('The '+ river.title() + ' runs through ' + country.title() + '.')\n",
    "    \n",
    "print('The rivers are:')\n",
    "for river in rivers.keys():\n",
    "    print(river.title())\n",
    "\n",
    "print('The countries are:')\n",
    "for country in rivers.values():\n",
    "    print(country.title())"
   ]
  },
  {
   "cell_type": "code",
   "execution_count": 5,
   "id": "8f84358f",
   "metadata": {},
   "outputs": [],
   "source": [
    "# 6-6 调查\n",
    "# 找不到那个py程序在哪儿了懒得做了"
   ]
  },
  {
   "cell_type": "code",
   "execution_count": 6,
   "id": "d70b0dc4",
   "metadata": {},
   "outputs": [
    {
     "name": "stdout",
     "output_type": "stream",
     "text": [
      "{'first_name': '雨', 'last_name': '车', 'age': 18, 'city': 'ZhangTong'}\n",
      "{'first_name': 'Eriksson', 'last_name': 'Hou', 'age': 21, 'city': 'Zhaotong'}\n",
      "{'first_name': 'Jane', 'last_name': 'Don', 'age': 35, 'city': 'Shanghai'}\n"
     ]
    }
   ],
   "source": [
    "# 6-7 人们\n",
    "person01 = {'first_name': '雨', 'last_name': '车', 'age': 18, 'city': 'ZhangTong'}\n",
    "person02 = {'first_name': 'Eriksson', 'last_name': 'Hou', 'age':21, 'city':'Zhaotong'}\n",
    "person03 = {'first_name': 'Jane', 'last_name': 'Don', 'age':35, 'city':\"Shanghai\"}\n",
    "\n",
    "persons = [person01, person02, person03]\n",
    "\n",
    "for person in persons:\n",
    "    print(person)"
   ]
  },
  {
   "cell_type": "code",
   "execution_count": 7,
   "id": "d87d5098",
   "metadata": {},
   "outputs": [
    {
     "name": "stdout",
     "output_type": "stream",
     "text": [
      "{'class': 'dog', 'owner': 'WangHua'}\n",
      "{'class': 'cat', 'owner': 'ZhouJie'}\n",
      "{'class': 'mouse', 'owner': 'LiYongmei'}\n"
     ]
    }
   ],
   "source": [
    "# 6-8 宠物\n",
    "pet01 = {'class':'dog', 'owner':'WangHua'}\n",
    "pet02 = {'class':'cat', 'owner':'ZhouJie'}\n",
    "pet03 = {'class':'mouse', 'owner':'LiYongmei'}\n",
    "pets = [pet01, pet02, pet03]\n",
    "for pet in pets:\n",
    "    print(pet)"
   ]
  },
  {
   "cell_type": "code",
   "execution_count": 9,
   "id": "c5e00180",
   "metadata": {},
   "outputs": [
    {
     "name": "stdout",
     "output_type": "stream",
     "text": [
      "eric's favorite number is [1, 3, 5, 7, 9]\n",
      "john's favorite number is [2, 4, 6, 8, 10]\n",
      "pitbull's favorite number is [122, 465, 121, 547]\n"
     ]
    }
   ],
   "source": [
    "# 6-10 喜欢的数2\n",
    "favorite_number = {\n",
    "    'eric': [1,3,5,7,9],\n",
    "    'john': [2,4,6,8,10],\n",
    "    'pitbull': [122,465,121,547]\n",
    "}\n",
    "for name in favorite_number:\n",
    "    print(name + \"'s favorite number is \" + str(favorite_number[name]))"
   ]
  },
  {
   "cell_type": "code",
   "execution_count": 10,
   "id": "06addfb3",
   "metadata": {},
   "outputs": [
    {
     "name": "stdout",
     "output_type": "stream",
     "text": [
      "City Zhaotong's country is China, its population is 10000000, the fact is a lot of delicious food!\n",
      "City Beijing's country is China, its population is 1, the fact is principal of China.\n",
      "City Los Angeles's country is America, its population is 1240439875, the fact is a famous city in the USA.\n"
     ]
    }
   ],
   "source": [
    "# 6-11 城市\n",
    "cities = {\n",
    "    'Zhaotong':{\n",
    "        'country': 'China',\n",
    "        'population': 10000000,\n",
    "        'fact': 'a lot of delicious food!'\n",
    "    },\n",
    "    'Beijing':{\n",
    "        'country': 'China',\n",
    "        'population': 1,\n",
    "        'fact': 'principal of China.'\n",
    "    },\n",
    "    'Los Angeles':{\n",
    "        'country': 'America',\n",
    "        'population': 1240439875,\n",
    "        'fact': 'a famous city in the USA.'\n",
    "    }\n",
    "}\n",
    "\n",
    "for city,properties in cities.items():\n",
    "    cityname = city\n",
    "    print(f\"City {cityname}'s country is {properties['country]}, its population is {properties['population']}, the fact is {properties['fact']}\")\n"
   ]
  }
 ],
 "metadata": {
  "kernelspec": {
   "display_name": "Python 3 (ipykernel)",
   "language": "python",
   "name": "python3"
  },
  "language_info": {
   "codemirror_mode": {
    "name": "ipython",
    "version": 3
   },
   "file_extension": ".py",
   "mimetype": "text/x-python",
   "name": "python",
   "nbconvert_exporter": "python",
   "pygments_lexer": "ipython3",
   "version": "3.7.11"
  }
 },
 "nbformat": 4,
 "nbformat_minor": 5
}
