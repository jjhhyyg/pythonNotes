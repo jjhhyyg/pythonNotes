{
 "cells": [
  {
   "cell_type": "markdown",
   "metadata": {
    "collapsed": true,
    "pycharm": {
     "name": "#%% md\n"
    }
   },
   "source": [
    "#### 关键词实参"
   ]
  },
  {
   "cell_type": "code",
   "execution_count": 1,
   "outputs": [
    {
     "name": "stdout",
     "output_type": "stream",
     "text": [
      "\n",
      "I have a hamster.\n",
      "My hamster's name is Harry.\n"
     ]
    }
   ],
   "source": [
    "# 关键字实参, 不用考虑参数的位置\n",
    "def describe_pet(animal_type, pet_name):\n",
    "    \"\"\"\n",
    "     - 显示宠物的信息\n",
    "    \"\"\"\n",
    "    print(f\"\\nI have a {animal_type}.\")\n",
    "    print(f\"My {animal_type}'s name is {pet_name.title()}.\")\n",
    "\n",
    "\n",
    "describe_pet(pet_name=\"harry\", animal_type=\"hamster\")"
   ],
   "metadata": {
    "collapsed": false,
    "pycharm": {
     "name": "#%%\n"
    }
   }
  },
  {
   "cell_type": "markdown",
   "source": [
    "#### 指定默认值"
   ],
   "metadata": {
    "collapsed": false,
    "pycharm": {
     "name": "#%% md\n"
    }
   }
  },
  {
   "cell_type": "code",
   "execution_count": 4,
   "outputs": [
    {
     "name": "stdout",
     "output_type": "stream",
     "text": [
      "\n",
      "I have a dog.\n",
      "My dog's name is Harry.\n"
     ]
    }
   ],
   "source": [
    "# 不能把带默认值的形参放到不带默认值的前面\n",
    "def describe_pet(pet_name, animal_type=\"dog\"):\n",
    "    \"\"\"\n",
    "     - 显示宠物的信息\n",
    "    \"\"\"\n",
    "    print(f\"\\nI have a {animal_type}.\")\n",
    "    print(f\"My {animal_type}'s name is {pet_name.title()}.\")\n",
    "\n",
    "\n",
    "describe_pet(\"harry\")"
   ],
   "metadata": {
    "collapsed": false,
    "pycharm": {
     "name": "#%%\n"
    }
   }
  },
  {
   "cell_type": "markdown",
   "source": [
    "#### 让实参变为可选的"
   ],
   "metadata": {
    "collapsed": false,
    "pycharm": {
     "name": "#%% md\n"
    }
   }
  },
  {
   "cell_type": "code",
   "execution_count": 6,
   "outputs": [
    {
     "name": "stdout",
     "output_type": "stream",
     "text": [
      "john lee hooker\n"
     ]
    }
   ],
   "source": [
    "# 必须输入中间名\n",
    "def get_formatted_name(first_name, middle_name, last_name):\n",
    "    \"\"\"\n",
    "    返回整洁的全名\n",
    "    :param first_name:\n",
    "    :param middle_name:\n",
    "    :param last_name:\n",
    "    :return:\n",
    "    \"\"\"\n",
    "    full_name = f\"{first_name} {middle_name} {last_name}\"\n",
    "    return full_name\n",
    "\n",
    "\n",
    "name = get_formatted_name('john', 'lee', 'hooker')\n",
    "print(name)"
   ],
   "metadata": {
    "collapsed": false,
    "pycharm": {
     "name": "#%%\n"
    }
   }
  },
  {
   "cell_type": "code",
   "execution_count": 7,
   "outputs": [
    {
     "name": "stdout",
     "output_type": "stream",
     "text": [
      "john  hendrix\n"
     ]
    }
   ],
   "source": [
    "# 可不输入中间名\n",
    "def get_formatted_name(first_name, last_name, middle_name=''):\n",
    "    \"\"\"\n",
    "    返回整洁的全名\n",
    "    :param first_name:\n",
    "    :param middle_name:\n",
    "    :param last_name:\n",
    "    :return:\n",
    "    \"\"\"\n",
    "    full_name = f\"{first_name} {middle_name} {last_name}\"\n",
    "    return full_name\n",
    "\n",
    "\n",
    "name = get_formatted_name('john', 'hendrix')\n",
    "print(name)"
   ],
   "metadata": {
    "collapsed": false,
    "pycharm": {
     "name": "#%%\n"
    }
   }
  },
  {
   "cell_type": "markdown",
   "source": [
    "#### 返回字典"
   ],
   "metadata": {
    "collapsed": false,
    "pycharm": {
     "name": "#%% md\n"
    }
   }
  },
  {
   "cell_type": "code",
   "execution_count": 9,
   "outputs": [
    {
     "name": "stdout",
     "output_type": "stream",
     "text": [
      "{'first': 'jimi', 'last': 'hendrix', 'age': 27}\n"
     ]
    }
   ],
   "source": [
    "def build_person(first_name, last_name, age=None):\n",
    "    \"\"\"\n",
    "    返回一个字典，其中包含一个人的信息\n",
    "    :param first_name:\n",
    "    :param last_name:\n",
    "    :param age:\n",
    "    :return:\n",
    "    \"\"\"\n",
    "    person = {\n",
    "        'first': first_name,\n",
    "        'last': last_name\n",
    "    }\n",
    "    # 如果给年龄了\n",
    "    if age:\n",
    "        person['age'] = age\n",
    "    return person\n",
    "\n",
    "\n",
    "musician = build_person('jimi', 'hendrix', 27)\n",
    "print(musician)"
   ],
   "metadata": {
    "collapsed": false,
    "pycharm": {
     "name": "#%%\n"
    }
   }
  },
  {
   "cell_type": "markdown",
   "source": [
    "**函数中修改列表会在函数外也修改列表**\n",
    "怎样只传值呢？☞传函数副本（见下例）\n"
   ],
   "metadata": {
    "collapsed": false,
    "pycharm": {
     "name": "#%% md\n"
    }
   }
  },
  {
   "cell_type": "code",
   "execution_count": 2,
   "outputs": [
    {
     "name": "stdout",
     "output_type": "stream",
     "text": [
      "['task1', 'task2', 'task3']\n",
      "['task3', 'task2', 'task1']\n"
     ]
    }
   ],
   "source": [
    "unassigned_tasks = ['task1', 'task2', 'task3']\n",
    "assigned_tasks = []\n",
    "\n",
    "\n",
    "def assign(unassigned, assigned):\n",
    "    while unassigned:\n",
    "        task = unassigned.pop()\n",
    "        assigned.append(task)\n",
    "\n",
    "\n",
    "assign(unassigned_tasks[:], assigned_tasks)\n",
    "print(unassigned_tasks)\n",
    "print(assigned_tasks)"
   ],
   "metadata": {
    "collapsed": false,
    "pycharm": {
     "name": "#%%\n"
    }
   }
  },
  {
   "cell_type": "markdown",
   "source": [
    "#### 传递任意数量的形参\n",
    "当形参个数不确定时，可以在函数定义时，在相关变量前打一个*号\n",
    "这会把输入的所有数据转化为一个元组"
   ],
   "metadata": {
    "collapsed": false,
    "pycharm": {
     "name": "#%% md\n"
    }
   }
  },
  {
   "cell_type": "code",
   "execution_count": 3,
   "outputs": [
    {
     "name": "stdout",
     "output_type": "stream",
     "text": [
      "('a',)\n",
      "('a', 'b', 'c')\n"
     ]
    }
   ],
   "source": [
    "def make_pizza(*toppings):\n",
    "    print(toppings)\n",
    "\n",
    "\n",
    "make_pizza('a')\n",
    "make_pizza('a', 'b', 'c')"
   ],
   "metadata": {
    "collapsed": false,
    "pycharm": {
     "name": "#%%\n"
    }
   }
  },
  {
   "cell_type": "code",
   "execution_count": 5,
   "outputs": [
    {
     "name": "stdout",
     "output_type": "stream",
     "text": [
      "\n",
      "Making a pizza with the following toppings:\n",
      "- a\n",
      "\n",
      "Making a pizza with the following toppings:\n",
      "- a\n",
      "- b\n",
      "- c\n"
     ]
    }
   ],
   "source": [
    "# 或者像这样\n",
    "def make_pizza(*toppings):\n",
    "    print(\"\\nMaking a pizza with the following toppings:\")\n",
    "    for topping in toppings:\n",
    "        print(f\"- {topping}\")\n",
    "\n",
    "\n",
    "make_pizza('a')\n",
    "make_pizza('a', 'b', 'c')"
   ],
   "metadata": {
    "collapsed": false,
    "pycharm": {
     "name": "#%%\n"
    }
   }
  },
  {
   "cell_type": "markdown",
   "source": [
    "#### 结合使用位置形参和任意数量实参\n",
    "Python先匹配**位置实参**和**关键字实参**，再将余下的实参都收集到最后一个形参中\n",
    "\n",
    "注意，你经常会看到通用形参名*args，它也收集任意数量的位置实参"
   ],
   "metadata": {
    "collapsed": false,
    "pycharm": {
     "name": "#%% md\n"
    }
   }
  },
  {
   "cell_type": "code",
   "execution_count": 2,
   "outputs": [
    {
     "name": "stdout",
     "output_type": "stream",
     "text": [
      "\n",
      "Making a 16-inch pizza with the following toppings:\n",
      "- pepperoni\n",
      "\n",
      "Making a 12-inch pizza with the following toppings:\n",
      "- mushrooms\n",
      "- green peppers\n",
      "- extra cheese\n"
     ]
    }
   ],
   "source": [
    "def make_pizza(size, *toppings):\n",
    "    print(f\"\\nMaking a {size}-inch pizza with the following toppings:\")\n",
    "    for topping in toppings:\n",
    "        print(f\"- {topping}\")\n",
    "\n",
    "\n",
    "make_pizza(16, 'pepperoni')\n",
    "make_pizza(12, 'mushrooms', 'green peppers', 'extra cheese')"
   ],
   "metadata": {
    "collapsed": false,
    "pycharm": {
     "name": "#%%\n"
    }
   }
  },
  {
   "cell_type": "markdown",
   "source": [
    "#### 使用任意数量的关键字实参\n",
    "首先要知道——\\*\\*\\+变量表示传入的是一个空字典\n",
    "同时，该空字典可在调用函数时为其添加任意数量的键值对，在函数中可以直接把它当一个字典对象来使用\n",
    "\n",
    "注意，你经常会看到形参名\\*\\*kwargs，它用于收集任意数量的关键字实参"
   ],
   "metadata": {
    "collapsed": false,
    "pycharm": {
     "name": "#%% md\n"
    }
   }
  },
  {
   "cell_type": "code",
   "execution_count": 3,
   "outputs": [
    {
     "name": "stdout",
     "output_type": "stream",
     "text": [
      "{'location': 'princeton', 'field': 'physics', 'first_name': 'albert', 'last_name': 'einstein'}\n"
     ]
    }
   ],
   "source": [
    "def build_profile(first, last, **user_info):\n",
    "    \"\"\"创建一个字典，其中包含我们知道的有关用户的一切\"\"\"\n",
    "    user_info['first_name'] = first\n",
    "    user_info['last_name'] = last\n",
    "    return user_info\n",
    "\n",
    "\n",
    "user_profile = build_profile('albert', 'einstein', location='princeton', field='physics')\n",
    "print(user_profile)"
   ],
   "metadata": {
    "collapsed": false,
    "pycharm": {
     "name": "#%%\n"
    }
   }
  },
  {
   "cell_type": "markdown",
   "source": [
    "#### 将函数存储在模块中\n",
    "##### 导入整个模块\n",
    "pizza.py\n",
    "~~~python\n",
    "def make_pizza(size, *toppings):\n",
    "\"\"\"概述要制作的比萨。\"\"\"\n",
    "    print(f\"\\nMaking a {size}-inch pizza with the following toppings:\")\n",
    "    for topping in toppings:\n",
    "    print(f\"- {topping}\")\n",
    "~~~\n",
    "making_pizzas.py\n",
    "~~~python\n",
    "import pizza\n",
    "pizza.make_pizza(16, 'pepperoni')\n",
    "pizza.make_pizza(12, 'mushrooms', 'green peppers', 'extra cheese')\n",
    "~~~\n",
    "得到结果：\n",
    "~~~\n",
    "Making a 16-inch pizza with the following toppings:\n",
    "- pepperoni\n",
    "Making a 12-inch pizza with the following toppings:\n",
    "- mushrooms\n",
    "- green peppers\n",
    "- extra cheese\n",
    "~~~\n",
    "##### 导入特定函数\n",
    "`from module_name import function_name`\n",
    "##### 使用as给函数指定别名\n",
    "`from module_name import function_name as function_alias`\n",
    "##### 使用as给模块指定别名\n",
    "`import module_name as module_alias`"
   ],
   "metadata": {
    "collapsed": false,
    "pycharm": {
     "name": "#%% md\n"
    }
   }
  }
 ],
 "metadata": {
  "kernelspec": {
   "display_name": "Python 3",
   "language": "python",
   "name": "python3"
  },
  "language_info": {
   "codemirror_mode": {
    "name": "ipython",
    "version": 2
   },
   "file_extension": ".py",
   "mimetype": "text/x-python",
   "name": "python",
   "nbconvert_exporter": "python",
   "pygments_lexer": "ipython2",
   "version": "2.7.6"
  }
 },
 "nbformat": 4,
 "nbformat_minor": 0
}