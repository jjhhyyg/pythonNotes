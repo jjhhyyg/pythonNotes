{
 "cells": [
  {
   "cell_type": "markdown",
   "metadata": {
    "collapsed": true,
    "pycharm": {
     "name": "#%% md\n"
    }
   },
   "source": [
    "#### 关键词实参"
   ]
  },
  {
   "cell_type": "code",
   "execution_count": 1,
   "outputs": [
    {
     "name": "stdout",
     "output_type": "stream",
     "text": [
      "\n",
      "I have a hamster.\n",
      "My hamster's name is Harry.\n"
     ]
    }
   ],
   "source": [
    "# 关键字实参, 不用考虑参数的位置\n",
    "def describe_pet(animal_type, pet_name):\n",
    "    \"\"\"\n",
    "     - 显示宠物的信息\n",
    "    \"\"\"\n",
    "    print(f\"\\nI have a {animal_type}.\")\n",
    "    print(f\"My {animal_type}'s name is {pet_name.title()}.\")\n",
    "\n",
    "\n",
    "describe_pet(pet_name=\"harry\", animal_type=\"hamster\")"
   ],
   "metadata": {
    "collapsed": false,
    "pycharm": {
     "name": "#%%\n"
    }
   }
  },
  {
   "cell_type": "markdown",
   "source": [
    "#### 指定默认值"
   ],
   "metadata": {
    "collapsed": false,
    "pycharm": {
     "name": "#%% md\n"
    }
   }
  },
  {
   "cell_type": "code",
   "execution_count": 4,
   "outputs": [
    {
     "name": "stdout",
     "output_type": "stream",
     "text": [
      "\n",
      "I have a dog.\n",
      "My dog's name is Harry.\n"
     ]
    }
   ],
   "source": [
    "# 不能把带默认值的形参放到不带默认值的前面\n",
    "def describe_pet(pet_name, animal_type=\"dog\"):\n",
    "    \"\"\"\n",
    "     - 显示宠物的信息\n",
    "    \"\"\"\n",
    "    print(f\"\\nI have a {animal_type}.\")\n",
    "    print(f\"My {animal_type}'s name is {pet_name.title()}.\")\n",
    "\n",
    "\n",
    "describe_pet(\"harry\")"
   ],
   "metadata": {
    "collapsed": false,
    "pycharm": {
     "name": "#%%\n"
    }
   }
  },
  {
   "cell_type": "markdown",
   "source": [
    "#### 让实参变为可选的"
   ],
   "metadata": {
    "collapsed": false,
    "pycharm": {
     "name": "#%% md\n"
    }
   }
  },
  {
   "cell_type": "code",
   "execution_count": 6,
   "outputs": [
    {
     "name": "stdout",
     "output_type": "stream",
     "text": [
      "john lee hooker\n"
     ]
    }
   ],
   "source": [
    "# 必须输入中间名\n",
    "def get_formatted_name(first_name, middle_name, last_name):\n",
    "    \"\"\"\n",
    "    返回整洁的全名\n",
    "    :param first_name:\n",
    "    :param middle_name:\n",
    "    :param last_name:\n",
    "    :return:\n",
    "    \"\"\"\n",
    "    full_name = f\"{first_name} {middle_name} {last_name}\"\n",
    "    return full_name\n",
    "\n",
    "\n",
    "name = get_formatted_name('john', 'lee', 'hooker')\n",
    "print(name)"
   ],
   "metadata": {
    "collapsed": false,
    "pycharm": {
     "name": "#%%\n"
    }
   }
  },
  {
   "cell_type": "code",
   "execution_count": 7,
   "outputs": [
    {
     "name": "stdout",
     "output_type": "stream",
     "text": [
      "john  hendrix\n"
     ]
    }
   ],
   "source": [
    "# 可不输入中间名\n",
    "def get_formatted_name(first_name, last_name, middle_name=''):\n",
    "    \"\"\"\n",
    "    返回整洁的全名\n",
    "    :param first_name:\n",
    "    :param middle_name:\n",
    "    :param last_name:\n",
    "    :return:\n",
    "    \"\"\"\n",
    "    full_name = f\"{first_name} {middle_name} {last_name}\"\n",
    "    return full_name\n",
    "\n",
    "\n",
    "name = get_formatted_name('john', 'hendrix')\n",
    "print(name)"
   ],
   "metadata": {
    "collapsed": false,
    "pycharm": {
     "name": "#%%\n"
    }
   }
  },
  {
   "cell_type": "markdown",
   "source": [
    "#### 返回字典"
   ],
   "metadata": {
    "collapsed": false,
    "pycharm": {
     "name": "#%% md\n"
    }
   }
  },
  {
   "cell_type": "code",
   "execution_count": 9,
   "outputs": [
    {
     "name": "stdout",
     "output_type": "stream",
     "text": [
      "{'first': 'jimi', 'last': 'hendrix', 'age': 27}\n"
     ]
    }
   ],
   "source": [
    "def build_person(first_name, last_name, age=None):\n",
    "    \"\"\"\n",
    "    返回一个字典，其中包含一个人的信息\n",
    "    :param first_name:\n",
    "    :param last_name:\n",
    "    :param age:\n",
    "    :return:\n",
    "    \"\"\"\n",
    "    person = {\n",
    "        'first':first_name,\n",
    "        'last':last_name\n",
    "    }\n",
    "    # 如果给年龄了\n",
    "    if age:\n",
    "        person['age'] = age\n",
    "    return person\n",
    "\n",
    "\n",
    "musician = build_person('jimi', 'hendrix', 27)\n",
    "print(musician)"
   ],
   "metadata": {
    "collapsed": false,
    "pycharm": {
     "name": "#%%\n"
    }
   }
  },
  {
   "cell_type": "code",
   "execution_count": null,
   "outputs": [],
   "source": [],
   "metadata": {
    "collapsed": false,
    "pycharm": {
     "name": "#%%\n"
    }
   }
  }
 ],
 "metadata": {
  "kernelspec": {
   "display_name": "Python 3",
   "language": "python",
   "name": "python3"
  },
  "language_info": {
   "codemirror_mode": {
    "name": "ipython",
    "version": 2
   },
   "file_extension": ".py",
   "mimetype": "text/x-python",
   "name": "python",
   "nbconvert_exporter": "python",
   "pygments_lexer": "ipython2",
   "version": "2.7.6"
  }
 },
 "nbformat": 4,
 "nbformat_minor": 0
}